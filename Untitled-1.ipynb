{
 "cells": [
  {
   "cell_type": "code",
   "execution_count": 24,
   "metadata": {},
   "outputs": [],
   "source": [
    "import pandas as pd\n",
    "from pathlib import Path\n",
    "from functools import cache\n",
    "from bioinfokit import analys, visuz"
   ]
  },
  {
   "cell_type": "code",
   "execution_count": 25,
   "metadata": {},
   "outputs": [],
   "source": [
    "def read_individual(file_path: Path) -> pd.DataFrame:\n",
    "    #df = pd.read_csv(file_path, index_col=1)\n",
    "    df = pd.read_csv(file_path, index_col=1).T.iloc[3:]\n",
    "    names: list[str] = list(df.index)\n",
    "    mal_formed_names: list[str] = [\n",
    "        name for name in names if len(name.split(\"_\")) != 2\n",
    "    ]\n",
    "    if mal_formed_names:\n",
    "        raise ValueError(f\"all names should have 1 _, but {mal_formed_names}\")\n",
    "    df[\"comparison\"] = [name.split(\"_\")[0] for name in names]\n",
    "    print(1, file_path, df.head(2), df.dtypes, sep=\"\\n\")\n",
    "    return df"
   ]
  },
  {
   "cell_type": "code",
   "execution_count": 26,
   "metadata": {},
   "outputs": [
    {
     "name": "stdout",
     "output_type": "stream",
     "text": [
      "1\n",
      "/Users/liam/code/omics_dashboard/data/CSexp2_BETi_CPM_after_filtering.csv\n",
      "gene_id      ENSG00000000003 ENSG00000000005 ENSG00000000419 ENSG00000000457  \\\n",
      "CTRL.DMSO_S1       34.360965        0.846768        21.25834        15.50923   \n",
      "CTRL.DMSO_S2       34.771363        1.146715       20.603882       16.756838   \n",
      "\n",
      "gene_id      ENSG00000000460 ENSG00000000938 ENSG00000000971 ENSG00000001036  \\\n",
      "CTRL.DMSO_S1        8.066582        0.579368       52.860178       28.032487   \n",
      "CTRL.DMSO_S2        6.288438        0.295926       46.132721       29.444686   \n",
      "\n",
      "gene_id      ENSG00000001084 ENSG00000001167  ... ENSG00000289688  \\\n",
      "CTRL.DMSO_S1       24.511713       40.443881  ...        9.492718   \n",
      "CTRL.DMSO_S2       23.785092       44.145574  ...         8.21196   \n",
      "\n",
      "gene_id      ENSG00000289690 ENSG00000289692 ENSG00000289694 ENSG00000289697  \\\n",
      "CTRL.DMSO_S1             0.0        0.526333       55.586772        0.976012   \n",
      "CTRL.DMSO_S2             0.0             0.0       87.447388        1.639433   \n",
      "\n",
      "gene_id      ENSG00000289698 ENSG00000289700 ENSG00000289701 ENSG00000289716  \\\n",
      "CTRL.DMSO_S1        0.192528        1.963165        1.853977        0.097601   \n",
      "CTRL.DMSO_S2        0.083599        3.377631        0.975818             0.0   \n",
      "\n",
      "gene_id      comparison  \n",
      "CTRL.DMSO_S1  CTRL.DMSO  \n",
      "CTRL.DMSO_S2  CTRL.DMSO  \n",
      "\n",
      "[2 rows x 20402 columns]\n",
      "gene_id\n",
      "ENSG00000000003    object\n",
      "ENSG00000000005    object\n",
      "ENSG00000000419    object\n",
      "ENSG00000000457    object\n",
      "ENSG00000000460    object\n",
      "                    ...  \n",
      "ENSG00000289698    object\n",
      "ENSG00000289700    object\n",
      "ENSG00000289701    object\n",
      "ENSG00000289716    object\n",
      "comparison         object\n",
      "Length: 20402, dtype: object\n"
     ]
    },
    {
     "data": {
      "text/html": [
       "<div>\n",
       "<style scoped>\n",
       "    .dataframe tbody tr th:only-of-type {\n",
       "        vertical-align: middle;\n",
       "    }\n",
       "\n",
       "    .dataframe tbody tr th {\n",
       "        vertical-align: top;\n",
       "    }\n",
       "\n",
       "    .dataframe thead th {\n",
       "        text-align: right;\n",
       "    }\n",
       "</style>\n",
       "<table border=\"1\" class=\"dataframe\">\n",
       "  <thead>\n",
       "    <tr style=\"text-align: right;\">\n",
       "      <th>gene_id</th>\n",
       "      <th>ENSG00000000003</th>\n",
       "      <th>ENSG00000000005</th>\n",
       "      <th>ENSG00000000419</th>\n",
       "      <th>ENSG00000000457</th>\n",
       "      <th>ENSG00000000460</th>\n",
       "      <th>ENSG00000000938</th>\n",
       "      <th>ENSG00000000971</th>\n",
       "      <th>ENSG00000001036</th>\n",
       "      <th>ENSG00000001084</th>\n",
       "      <th>ENSG00000001167</th>\n",
       "      <th>...</th>\n",
       "      <th>ENSG00000289688</th>\n",
       "      <th>ENSG00000289690</th>\n",
       "      <th>ENSG00000289692</th>\n",
       "      <th>ENSG00000289694</th>\n",
       "      <th>ENSG00000289697</th>\n",
       "      <th>ENSG00000289698</th>\n",
       "      <th>ENSG00000289700</th>\n",
       "      <th>ENSG00000289701</th>\n",
       "      <th>ENSG00000289716</th>\n",
       "      <th>comparison</th>\n",
       "    </tr>\n",
       "  </thead>\n",
       "  <tbody>\n",
       "    <tr>\n",
       "      <th>CTRL.DMSO_S1</th>\n",
       "      <td>34.360965</td>\n",
       "      <td>0.846768</td>\n",
       "      <td>21.25834</td>\n",
       "      <td>15.50923</td>\n",
       "      <td>8.066582</td>\n",
       "      <td>0.579368</td>\n",
       "      <td>52.860178</td>\n",
       "      <td>28.032487</td>\n",
       "      <td>24.511713</td>\n",
       "      <td>40.443881</td>\n",
       "      <td>...</td>\n",
       "      <td>9.492718</td>\n",
       "      <td>0.0</td>\n",
       "      <td>0.526333</td>\n",
       "      <td>55.586772</td>\n",
       "      <td>0.976012</td>\n",
       "      <td>0.192528</td>\n",
       "      <td>1.963165</td>\n",
       "      <td>1.853977</td>\n",
       "      <td>0.097601</td>\n",
       "      <td>CTRL.DMSO</td>\n",
       "    </tr>\n",
       "    <tr>\n",
       "      <th>CTRL.DMSO_S2</th>\n",
       "      <td>34.771363</td>\n",
       "      <td>1.146715</td>\n",
       "      <td>20.603882</td>\n",
       "      <td>16.756838</td>\n",
       "      <td>6.288438</td>\n",
       "      <td>0.295926</td>\n",
       "      <td>46.132721</td>\n",
       "      <td>29.444686</td>\n",
       "      <td>23.785092</td>\n",
       "      <td>44.145574</td>\n",
       "      <td>...</td>\n",
       "      <td>8.21196</td>\n",
       "      <td>0.0</td>\n",
       "      <td>0.0</td>\n",
       "      <td>87.447388</td>\n",
       "      <td>1.639433</td>\n",
       "      <td>0.083599</td>\n",
       "      <td>3.377631</td>\n",
       "      <td>0.975818</td>\n",
       "      <td>0.0</td>\n",
       "      <td>CTRL.DMSO</td>\n",
       "    </tr>\n",
       "    <tr>\n",
       "      <th>CTRL.DMSO_S3</th>\n",
       "      <td>38.717056</td>\n",
       "      <td>1.560459</td>\n",
       "      <td>20.403741</td>\n",
       "      <td>14.368003</td>\n",
       "      <td>7.537313</td>\n",
       "      <td>0.264984</td>\n",
       "      <td>59.815644</td>\n",
       "      <td>30.002038</td>\n",
       "      <td>23.436332</td>\n",
       "      <td>45.322215</td>\n",
       "      <td>...</td>\n",
       "      <td>5.005247</td>\n",
       "      <td>0.0</td>\n",
       "      <td>0.0</td>\n",
       "      <td>82.257109</td>\n",
       "      <td>0.691018</td>\n",
       "      <td>0.177539</td>\n",
       "      <td>2.286809</td>\n",
       "      <td>1.06759</td>\n",
       "      <td>0.295898</td>\n",
       "      <td>CTRL.DMSO</td>\n",
       "    </tr>\n",
       "    <tr>\n",
       "      <th>CTRL.DMSO_S4</th>\n",
       "      <td>35.033721</td>\n",
       "      <td>0.615827</td>\n",
       "      <td>20.869697</td>\n",
       "      <td>14.643001</td>\n",
       "      <td>6.910949</td>\n",
       "      <td>0.0</td>\n",
       "      <td>65.922926</td>\n",
       "      <td>27.643796</td>\n",
       "      <td>21.896076</td>\n",
       "      <td>47.121723</td>\n",
       "      <td>...</td>\n",
       "      <td>5.268743</td>\n",
       "      <td>0.0</td>\n",
       "      <td>0.0</td>\n",
       "      <td>64.258824</td>\n",
       "      <td>0.586404</td>\n",
       "      <td>0.294913</td>\n",
       "      <td>0.932636</td>\n",
       "      <td>1.911801</td>\n",
       "      <td>0.354443</td>\n",
       "      <td>CTRL.DMSO</td>\n",
       "    </tr>\n",
       "    <tr>\n",
       "      <th>CTRL.DMSO_S5</th>\n",
       "      <td>40.956592</td>\n",
       "      <td>1.73481</td>\n",
       "      <td>22.326245</td>\n",
       "      <td>14.821308</td>\n",
       "      <td>7.76893</td>\n",
       "      <td>0.754265</td>\n",
       "      <td>52.715207</td>\n",
       "      <td>29.680329</td>\n",
       "      <td>25.154739</td>\n",
       "      <td>45.608898</td>\n",
       "      <td>...</td>\n",
       "      <td>7.391797</td>\n",
       "      <td>0.0</td>\n",
       "      <td>0.030925</td>\n",
       "      <td>56.165215</td>\n",
       "      <td>2.368769</td>\n",
       "      <td>0.077689</td>\n",
       "      <td>2.464561</td>\n",
       "      <td>1.889434</td>\n",
       "      <td>0.40504</td>\n",
       "      <td>CTRL.DMSO</td>\n",
       "    </tr>\n",
       "    <tr>\n",
       "      <th>CTRL.DMSO_S6</th>\n",
       "      <td>40.675899</td>\n",
       "      <td>1.809863</td>\n",
       "      <td>21.380921</td>\n",
       "      <td>16.411468</td>\n",
       "      <td>7.1781</td>\n",
       "      <td>0.49081</td>\n",
       "      <td>91.605131</td>\n",
       "      <td>33.405773</td>\n",
       "      <td>19.724437</td>\n",
       "      <td>47.171466</td>\n",
       "      <td>...</td>\n",
       "      <td>5.76702</td>\n",
       "      <td>0.0</td>\n",
       "      <td>0.0</td>\n",
       "      <td>92.18122</td>\n",
       "      <td>1.908025</td>\n",
       "      <td>0.102457</td>\n",
       "      <td>2.407731</td>\n",
       "      <td>2.357423</td>\n",
       "      <td>0.428539</td>\n",
       "      <td>CTRL.DMSO</td>\n",
       "    </tr>\n",
       "    <tr>\n",
       "      <th>CS.DMSO_S12</th>\n",
       "      <td>20.749471</td>\n",
       "      <td>1.78028</td>\n",
       "      <td>23.389196</td>\n",
       "      <td>31.738096</td>\n",
       "      <td>6.691397</td>\n",
       "      <td>0.245556</td>\n",
       "      <td>344.344831</td>\n",
       "      <td>30.694483</td>\n",
       "      <td>26.028922</td>\n",
       "      <td>27.625035</td>\n",
       "      <td>...</td>\n",
       "      <td>6.445841</td>\n",
       "      <td>0.0</td>\n",
       "      <td>1.913494</td>\n",
       "      <td>74.280035</td>\n",
       "      <td>9.328667</td>\n",
       "      <td>0.613276</td>\n",
       "      <td>4.387469</td>\n",
       "      <td>3.253615</td>\n",
       "      <td>0.0</td>\n",
       "      <td>CS.DMSO</td>\n",
       "    </tr>\n",
       "    <tr>\n",
       "      <th>CS.DMSO_S13</th>\n",
       "      <td>27.884358</td>\n",
       "      <td>1.420037</td>\n",
       "      <td>26.980698</td>\n",
       "      <td>33.048128</td>\n",
       "      <td>7.745655</td>\n",
       "      <td>0.129094</td>\n",
       "      <td>517.204487</td>\n",
       "      <td>35.371824</td>\n",
       "      <td>25.883397</td>\n",
       "      <td>27.287297</td>\n",
       "      <td>...</td>\n",
       "      <td>3.485545</td>\n",
       "      <td>0.0</td>\n",
       "      <td>0.032274</td>\n",
       "      <td>64.503877</td>\n",
       "      <td>10.178436</td>\n",
       "      <td>0.216233</td>\n",
       "      <td>1.600769</td>\n",
       "      <td>4.001922</td>\n",
       "      <td>0.556396</td>\n",
       "      <td>CS.DMSO</td>\n",
       "    </tr>\n",
       "    <tr>\n",
       "      <th>CS.DMSO_S15</th>\n",
       "      <td>26.054495</td>\n",
       "      <td>3.445917</td>\n",
       "      <td>25.045934</td>\n",
       "      <td>34.417148</td>\n",
       "      <td>6.009343</td>\n",
       "      <td>0.336187</td>\n",
       "      <td>302.923009</td>\n",
       "      <td>27.399243</td>\n",
       "      <td>26.264612</td>\n",
       "      <td>27.263088</td>\n",
       "      <td>...</td>\n",
       "      <td>6.849811</td>\n",
       "      <td>0.393339</td>\n",
       "      <td>0.311393</td>\n",
       "      <td>35.735001</td>\n",
       "      <td>7.671788</td>\n",
       "      <td>0.614382</td>\n",
       "      <td>0.638335</td>\n",
       "      <td>2.149916</td>\n",
       "      <td>0.262226</td>\n",
       "      <td>CS.DMSO</td>\n",
       "    </tr>\n",
       "  </tbody>\n",
       "</table>\n",
       "<p>9 rows × 20402 columns</p>\n",
       "</div>"
      ],
      "text/plain": [
       "gene_id      ENSG00000000003 ENSG00000000005 ENSG00000000419 ENSG00000000457  \\\n",
       "CTRL.DMSO_S1       34.360965        0.846768        21.25834        15.50923   \n",
       "CTRL.DMSO_S2       34.771363        1.146715       20.603882       16.756838   \n",
       "CTRL.DMSO_S3       38.717056        1.560459       20.403741       14.368003   \n",
       "CTRL.DMSO_S4       35.033721        0.615827       20.869697       14.643001   \n",
       "CTRL.DMSO_S5       40.956592         1.73481       22.326245       14.821308   \n",
       "CTRL.DMSO_S6       40.675899        1.809863       21.380921       16.411468   \n",
       "CS.DMSO_S12        20.749471         1.78028       23.389196       31.738096   \n",
       "CS.DMSO_S13        27.884358        1.420037       26.980698       33.048128   \n",
       "CS.DMSO_S15        26.054495        3.445917       25.045934       34.417148   \n",
       "\n",
       "gene_id      ENSG00000000460 ENSG00000000938 ENSG00000000971 ENSG00000001036  \\\n",
       "CTRL.DMSO_S1        8.066582        0.579368       52.860178       28.032487   \n",
       "CTRL.DMSO_S2        6.288438        0.295926       46.132721       29.444686   \n",
       "CTRL.DMSO_S3        7.537313        0.264984       59.815644       30.002038   \n",
       "CTRL.DMSO_S4        6.910949             0.0       65.922926       27.643796   \n",
       "CTRL.DMSO_S5         7.76893        0.754265       52.715207       29.680329   \n",
       "CTRL.DMSO_S6          7.1781         0.49081       91.605131       33.405773   \n",
       "CS.DMSO_S12         6.691397        0.245556      344.344831       30.694483   \n",
       "CS.DMSO_S13         7.745655        0.129094      517.204487       35.371824   \n",
       "CS.DMSO_S15         6.009343        0.336187      302.923009       27.399243   \n",
       "\n",
       "gene_id      ENSG00000001084 ENSG00000001167  ... ENSG00000289688  \\\n",
       "CTRL.DMSO_S1       24.511713       40.443881  ...        9.492718   \n",
       "CTRL.DMSO_S2       23.785092       44.145574  ...         8.21196   \n",
       "CTRL.DMSO_S3       23.436332       45.322215  ...        5.005247   \n",
       "CTRL.DMSO_S4       21.896076       47.121723  ...        5.268743   \n",
       "CTRL.DMSO_S5       25.154739       45.608898  ...        7.391797   \n",
       "CTRL.DMSO_S6       19.724437       47.171466  ...         5.76702   \n",
       "CS.DMSO_S12        26.028922       27.625035  ...        6.445841   \n",
       "CS.DMSO_S13        25.883397       27.287297  ...        3.485545   \n",
       "CS.DMSO_S15        26.264612       27.263088  ...        6.849811   \n",
       "\n",
       "gene_id      ENSG00000289690 ENSG00000289692 ENSG00000289694 ENSG00000289697  \\\n",
       "CTRL.DMSO_S1             0.0        0.526333       55.586772        0.976012   \n",
       "CTRL.DMSO_S2             0.0             0.0       87.447388        1.639433   \n",
       "CTRL.DMSO_S3             0.0             0.0       82.257109        0.691018   \n",
       "CTRL.DMSO_S4             0.0             0.0       64.258824        0.586404   \n",
       "CTRL.DMSO_S5             0.0        0.030925       56.165215        2.368769   \n",
       "CTRL.DMSO_S6             0.0             0.0        92.18122        1.908025   \n",
       "CS.DMSO_S12              0.0        1.913494       74.280035        9.328667   \n",
       "CS.DMSO_S13              0.0        0.032274       64.503877       10.178436   \n",
       "CS.DMSO_S15         0.393339        0.311393       35.735001        7.671788   \n",
       "\n",
       "gene_id      ENSG00000289698 ENSG00000289700 ENSG00000289701 ENSG00000289716  \\\n",
       "CTRL.DMSO_S1        0.192528        1.963165        1.853977        0.097601   \n",
       "CTRL.DMSO_S2        0.083599        3.377631        0.975818             0.0   \n",
       "CTRL.DMSO_S3        0.177539        2.286809         1.06759        0.295898   \n",
       "CTRL.DMSO_S4        0.294913        0.932636        1.911801        0.354443   \n",
       "CTRL.DMSO_S5        0.077689        2.464561        1.889434         0.40504   \n",
       "CTRL.DMSO_S6        0.102457        2.407731        2.357423        0.428539   \n",
       "CS.DMSO_S12         0.613276        4.387469        3.253615             0.0   \n",
       "CS.DMSO_S13         0.216233        1.600769        4.001922        0.556396   \n",
       "CS.DMSO_S15         0.614382        0.638335        2.149916        0.262226   \n",
       "\n",
       "gene_id      comparison  \n",
       "CTRL.DMSO_S1  CTRL.DMSO  \n",
       "CTRL.DMSO_S2  CTRL.DMSO  \n",
       "CTRL.DMSO_S3  CTRL.DMSO  \n",
       "CTRL.DMSO_S4  CTRL.DMSO  \n",
       "CTRL.DMSO_S5  CTRL.DMSO  \n",
       "CTRL.DMSO_S6  CTRL.DMSO  \n",
       "CS.DMSO_S12     CS.DMSO  \n",
       "CS.DMSO_S13     CS.DMSO  \n",
       "CS.DMSO_S15     CS.DMSO  \n",
       "\n",
       "[9 rows x 20402 columns]"
      ]
     },
     "execution_count": 26,
     "metadata": {},
     "output_type": "execute_result"
    }
   ],
   "source": [
    "p=Path(\"./data\").absolute()\n",
    "df = read_individual(p / \"CSexp2_BETi_CPM_after_filtering.csv\")\n",
    "df.head(9)"
   ]
  },
  {
   "cell_type": "code",
   "execution_count": 29,
   "metadata": {},
   "outputs": [
    {
     "data": {
      "text/html": [
       "<div>\n",
       "<style scoped>\n",
       "    .dataframe tbody tr th:only-of-type {\n",
       "        vertical-align: middle;\n",
       "    }\n",
       "\n",
       "    .dataframe tbody tr th {\n",
       "        vertical-align: top;\n",
       "    }\n",
       "\n",
       "    .dataframe thead th {\n",
       "        text-align: right;\n",
       "    }\n",
       "</style>\n",
       "<table border=\"1\" class=\"dataframe\">\n",
       "  <thead>\n",
       "    <tr style=\"text-align: right;\">\n",
       "      <th>gene_id</th>\n",
       "      <th>ENSG00000000003</th>\n",
       "      <th>ENSG00000000005</th>\n",
       "      <th>ENSG00000000419</th>\n",
       "      <th>ENSG00000000457</th>\n",
       "      <th>ENSG00000000460</th>\n",
       "      <th>ENSG00000000938</th>\n",
       "      <th>ENSG00000000971</th>\n",
       "      <th>ENSG00000001036</th>\n",
       "      <th>ENSG00000001084</th>\n",
       "      <th>ENSG00000001167</th>\n",
       "      <th>...</th>\n",
       "      <th>ENSG00000289685</th>\n",
       "      <th>ENSG00000289688</th>\n",
       "      <th>ENSG00000289690</th>\n",
       "      <th>ENSG00000289692</th>\n",
       "      <th>ENSG00000289694</th>\n",
       "      <th>ENSG00000289697</th>\n",
       "      <th>ENSG00000289698</th>\n",
       "      <th>ENSG00000289700</th>\n",
       "      <th>ENSG00000289701</th>\n",
       "      <th>ENSG00000289716</th>\n",
       "    </tr>\n",
       "    <tr>\n",
       "      <th>comparison</th>\n",
       "      <th></th>\n",
       "      <th></th>\n",
       "      <th></th>\n",
       "      <th></th>\n",
       "      <th></th>\n",
       "      <th></th>\n",
       "      <th></th>\n",
       "      <th></th>\n",
       "      <th></th>\n",
       "      <th></th>\n",
       "      <th></th>\n",
       "      <th></th>\n",
       "      <th></th>\n",
       "      <th></th>\n",
       "      <th></th>\n",
       "      <th></th>\n",
       "      <th></th>\n",
       "      <th></th>\n",
       "      <th></th>\n",
       "      <th></th>\n",
       "      <th></th>\n",
       "    </tr>\n",
       "  </thead>\n",
       "  <tbody>\n",
       "    <tr>\n",
       "      <th>Apabetalone</th>\n",
       "      <td>27.602860</td>\n",
       "      <td>0.530648</td>\n",
       "      <td>30.887964</td>\n",
       "      <td>35.564507</td>\n",
       "      <td>4.738058</td>\n",
       "      <td>0.080871</td>\n",
       "      <td>263.166017</td>\n",
       "      <td>18.213335</td>\n",
       "      <td>43.61079</td>\n",
       "      <td>55.145750</td>\n",
       "      <td>...</td>\n",
       "      <td>47.410209</td>\n",
       "      <td>1.925852</td>\n",
       "      <td>0.000000</td>\n",
       "      <td>0.788260</td>\n",
       "      <td>44.330227</td>\n",
       "      <td>5.642499</td>\n",
       "      <td>0.706350</td>\n",
       "      <td>2.836510</td>\n",
       "      <td>1.769475</td>\n",
       "      <td>0.229889</td>\n",
       "    </tr>\n",
       "    <tr>\n",
       "      <th>CS.DMSO</th>\n",
       "      <td>27.533999</td>\n",
       "      <td>1.964886</td>\n",
       "      <td>25.279817</td>\n",
       "      <td>33.026085</td>\n",
       "      <td>7.045245</td>\n",
       "      <td>0.218383</td>\n",
       "      <td>422.141894</td>\n",
       "      <td>32.053628</td>\n",
       "      <td>26.92756</td>\n",
       "      <td>28.709755</td>\n",
       "      <td>...</td>\n",
       "      <td>51.901985</td>\n",
       "      <td>4.153620</td>\n",
       "      <td>0.187013</td>\n",
       "      <td>0.540127</td>\n",
       "      <td>68.898177</td>\n",
       "      <td>11.668498</td>\n",
       "      <td>0.603357</td>\n",
       "      <td>1.942158</td>\n",
       "      <td>3.144407</td>\n",
       "      <td>0.202014</td>\n",
       "    </tr>\n",
       "  </tbody>\n",
       "</table>\n",
       "<p>2 rows × 20401 columns</p>\n",
       "</div>"
      ],
      "text/plain": [
       "gene_id      ENSG00000000003  ENSG00000000005  ENSG00000000419  \\\n",
       "comparison                                                       \n",
       "Apabetalone        27.602860         0.530648        30.887964   \n",
       "CS.DMSO            27.533999         1.964886        25.279817   \n",
       "\n",
       "gene_id      ENSG00000000457  ENSG00000000460  ENSG00000000938  \\\n",
       "comparison                                                       \n",
       "Apabetalone        35.564507         4.738058         0.080871   \n",
       "CS.DMSO            33.026085         7.045245         0.218383   \n",
       "\n",
       "gene_id      ENSG00000000971  ENSG00000001036  ENSG00000001084  \\\n",
       "comparison                                                       \n",
       "Apabetalone       263.166017        18.213335         43.61079   \n",
       "CS.DMSO           422.141894        32.053628         26.92756   \n",
       "\n",
       "gene_id      ENSG00000001167  ...  ENSG00000289685  ENSG00000289688  \\\n",
       "comparison                    ...                                     \n",
       "Apabetalone        55.145750  ...        47.410209         1.925852   \n",
       "CS.DMSO            28.709755  ...        51.901985         4.153620   \n",
       "\n",
       "gene_id      ENSG00000289690  ENSG00000289692  ENSG00000289694  \\\n",
       "comparison                                                       \n",
       "Apabetalone         0.000000         0.788260        44.330227   \n",
       "CS.DMSO             0.187013         0.540127        68.898177   \n",
       "\n",
       "gene_id      ENSG00000289697  ENSG00000289698  ENSG00000289700  \\\n",
       "comparison                                                       \n",
       "Apabetalone         5.642499         0.706350         2.836510   \n",
       "CS.DMSO            11.668498         0.603357         1.942158   \n",
       "\n",
       "gene_id      ENSG00000289701  ENSG00000289716  \n",
       "comparison                                     \n",
       "Apabetalone         1.769475         0.229889  \n",
       "CS.DMSO             3.144407         0.202014  \n",
       "\n",
       "[2 rows x 20401 columns]"
      ]
     },
     "execution_count": 29,
     "metadata": {},
     "output_type": "execute_result"
    }
   ],
   "source": [
    "#@cache (or to polars and back (need new pandas 2.0))\n",
    "df_groups = df.groupby('comparison').agg('mean')\n",
    "df_groups.head(2)"
   ]
  },
  {
   "cell_type": "code",
   "execution_count": 1,
   "metadata": {},
   "outputs": [
    {
     "name": "stdout",
     "output_type": "stream",
     "text": [
      "['sheep1', 'sheep2', 'tiger1', 'sheep3', 'hippo1', 'tiger2']\n"
     ]
    }
   ],
   "source": [
    "from collections import Counter\n",
    "\n",
    "s = [\"sheep\", \"sheep\", \"tiger\", \"sheep\", \"hippo\", \"tiger\"]\n",
    "u = [ f\"{a}{c[a]}\" for c in [Counter()] for a in s if [c.update([a])] ]\n",
    "\n",
    "print(u)"
   ]
  },
  {
   "cell_type": "code",
   "execution_count": 2,
   "metadata": {},
   "outputs": [
    {
     "data": {
      "text/plain": [
       "Counter({'sheep': 3, 'tiger': 2, 'hippo': 1})"
      ]
     },
     "execution_count": 2,
     "metadata": {},
     "output_type": "execute_result"
    }
   ],
   "source": [
    "Counter(s)"
   ]
  },
  {
   "cell_type": "code",
   "execution_count": 3,
   "metadata": {},
   "outputs": [
    {
     "name": "stdout",
     "output_type": "stream",
     "text": [
      "['sheep1', 'sheep2', 'tiger1', 'sheep2', 'hippo1', 'tiger2']\n"
     ]
    }
   ],
   "source": [
    "from collections import Counter\n",
    "\n",
    "s = [\"sheep\", \"sheep\", \"tiger\", \"sheep\", \"hippo\", \"tiger\"]\n",
    "u = [ f\"{a}{c[a]}\" for c in [Counter()] for a in s if c[a] > 1 or [c.update([a])]]\n",
    "\n",
    "print(u)\n"
   ]
  },
  {
   "cell_type": "code",
   "execution_count": 4,
   "metadata": {},
   "outputs": [
    {
     "name": "stdout",
     "output_type": "stream",
     "text": [
      "['sheep1', 'sheep2', 'tiger1', 'sheep2', 'hippo1', 'tiger2']\n"
     ]
    }
   ],
   "source": [
    "from collections import Counter\n",
    "\n",
    "s = [\"sheep\", \"sheep\", \"tiger\", \"sheep\", \"hippo\", \"tiger\"]\n",
    "u = [ f\"{a}{c[a]}\" for c in [Counter()] for a in s if c[a] > 1 or [c.update([a])]]\n",
    "\n",
    "print(u)\n"
   ]
  },
  {
   "cell_type": "code",
   "execution_count": 5,
   "metadata": {},
   "outputs": [
    {
     "name": "stdout",
     "output_type": "stream",
     "text": [
      "['sheep2', 'sheep2', 'tiger1', 'sheep2', 'tiger1']\n"
     ]
    }
   ],
   "source": [
    "from collections import Counter\n",
    "\n",
    "s = [\"sheep\", \"sheep\", \"tiger\", \"sheep\", \"hippo\", \"tiger\"]\n",
    "u = [ f\"{a}{c[a]-1}\" for c in [Counter(s)] for a in s if c[a] > 1 ]\n",
    "\n",
    "print(u)"
   ]
  },
  {
   "cell_type": "code",
   "execution_count": 6,
   "metadata": {},
   "outputs": [
    {
     "name": "stdout",
     "output_type": "stream",
     "text": [
      "['sheep2', 'sheep2', 'tiger1', 'sheep2', 'tiger1', 'hippo']\n"
     ]
    }
   ],
   "source": [
    "from collections import Counter\n",
    "\n",
    "s = [\"sheep\", \"sheep\", \"tiger\", \"sheep\", \"hippo\", \"tiger\"]\n",
    "c = Counter(s)\n",
    "u = [ f\"{a}{c[a]-1}\" for a in s if c[a] > 1 ] + [a for a in s if c[a] == 1]\n",
    "\n",
    "print(u)\n"
   ]
  },
  {
   "cell_type": "code",
   "execution_count": 7,
   "metadata": {},
   "outputs": [
    {
     "name": "stdout",
     "output_type": "stream",
     "text": [
      "['sheep3', 'sheep2', 'tiger2', 'sheep1', 'hippo', 'tiger1']\n"
     ]
    }
   ],
   "source": [
    "from collections import Counter\n",
    "\n",
    "s = [\"sheep\", \"sheep\", \"tiger\", \"sheep\", \"hippo\", \"tiger\"]\n",
    "c = Counter(s)\n",
    "u = []\n",
    "for i, a in enumerate(s):\n",
    "    if c[a] > 1:\n",
    "        u.append(f\"{a}{c[a]-s[:i].count(a)}\")\n",
    "    else:\n",
    "        u.append(a)\n",
    "\n",
    "print(u)\n"
   ]
  },
  {
   "cell_type": "code",
   "execution_count": 4,
   "metadata": {},
   "outputs": [
    {
     "name": "stdout",
     "output_type": "stream",
     "text": [
      "aa b ca\n"
     ]
    }
   ],
   "source": [
    "from functools import partial\n",
    "\n",
    "def func(a, b, c):\n",
    "    print(a, b, c)\n",
    "\n",
    "d = partial(func, 'aa')\n",
    "d('b', 'ca')"
   ]
  },
  {
   "cell_type": "code",
   "execution_count": 52,
   "metadata": {},
   "outputs": [
    {
     "data": {
      "text/html": [
       "<div>\n",
       "<style scoped>\n",
       "    .dataframe tbody tr th:only-of-type {\n",
       "        vertical-align: middle;\n",
       "    }\n",
       "\n",
       "    .dataframe tbody tr th {\n",
       "        vertical-align: top;\n",
       "    }\n",
       "\n",
       "    .dataframe thead th {\n",
       "        text-align: right;\n",
       "    }\n",
       "</style>\n",
       "<table border=\"1\" class=\"dataframe\">\n",
       "  <thead>\n",
       "    <tr style=\"text-align: right;\">\n",
       "      <th></th>\n",
       "      <th>Drug</th>\n",
       "      <th>Timepoint</th>\n",
       "      <th>Dose</th>\n",
       "      <th>Well Number</th>\n",
       "      <th>Force (uN)</th>\n",
       "      <th>Rate (bps)</th>\n",
       "      <th>Ta50 (s)</th>\n",
       "      <th>Tr50 (s)</th>\n",
       "      <th>Tpeak 85 (s)</th>\n",
       "      <th>Ta 15-30 (s)</th>\n",
       "      <th>Ta 30-85 (s)</th>\n",
       "      <th>Tr 85-50 (s)</th>\n",
       "      <th>Tr 50-15 (s)</th>\n",
       "      <th>RRscat (s)</th>\n",
       "    </tr>\n",
       "    <tr>\n",
       "      <th>key</th>\n",
       "      <th></th>\n",
       "      <th></th>\n",
       "      <th></th>\n",
       "      <th></th>\n",
       "      <th></th>\n",
       "      <th></th>\n",
       "      <th></th>\n",
       "      <th></th>\n",
       "      <th></th>\n",
       "      <th></th>\n",
       "      <th></th>\n",
       "      <th></th>\n",
       "      <th></th>\n",
       "      <th></th>\n",
       "    </tr>\n",
       "  </thead>\n",
       "  <tbody>\n",
       "    <tr>\n",
       "      <th>Baseline:Pos2</th>\n",
       "      <td>DMSO 1</td>\n",
       "      <td>Baseline</td>\n",
       "      <td>0.0</td>\n",
       "      <td>Pos2</td>\n",
       "      <td>442.421228</td>\n",
       "      <td>0.609756</td>\n",
       "      <td>0.170000</td>\n",
       "      <td>0.113333</td>\n",
       "      <td>0.166667</td>\n",
       "      <td>0.030000</td>\n",
       "      <td>0.103333</td>\n",
       "      <td>0.046667</td>\n",
       "      <td>0.053333</td>\n",
       "      <td>0.010</td>\n",
       "    </tr>\n",
       "    <tr>\n",
       "      <th>Baseline:Pos3</th>\n",
       "      <td>DMSO 1</td>\n",
       "      <td>Baseline</td>\n",
       "      <td>0.0</td>\n",
       "      <td>Pos3</td>\n",
       "      <td>366.876727</td>\n",
       "      <td>0.588235</td>\n",
       "      <td>0.176000</td>\n",
       "      <td>0.116667</td>\n",
       "      <td>0.168000</td>\n",
       "      <td>0.032000</td>\n",
       "      <td>0.108000</td>\n",
       "      <td>0.050000</td>\n",
       "      <td>0.050000</td>\n",
       "      <td>0.010</td>\n",
       "    </tr>\n",
       "    <tr>\n",
       "      <th>Baseline:Pos4</th>\n",
       "      <td>DMSO 1</td>\n",
       "      <td>Baseline</td>\n",
       "      <td>0.0</td>\n",
       "      <td>Pos4</td>\n",
       "      <td>468.408194</td>\n",
       "      <td>0.595238</td>\n",
       "      <td>0.163333</td>\n",
       "      <td>0.116667</td>\n",
       "      <td>0.160000</td>\n",
       "      <td>0.033333</td>\n",
       "      <td>0.103333</td>\n",
       "      <td>0.050000</td>\n",
       "      <td>0.050000</td>\n",
       "      <td>0.015</td>\n",
       "    </tr>\n",
       "  </tbody>\n",
       "</table>\n",
       "</div>"
      ],
      "text/plain": [
       "                 Drug Timepoint  Dose Well Number  Force (uN)  Rate (bps)   \n",
       "key                                                                         \n",
       "Baseline:Pos2  DMSO 1  Baseline   0.0        Pos2  442.421228    0.609756  \\\n",
       "Baseline:Pos3  DMSO 1  Baseline   0.0        Pos3  366.876727    0.588235   \n",
       "Baseline:Pos4  DMSO 1  Baseline   0.0        Pos4  468.408194    0.595238   \n",
       "\n",
       "               Ta50 (s)  Tr50 (s)  Tpeak 85 (s)  Ta 15-30 (s)  Ta 30-85 (s)   \n",
       "key                                                                           \n",
       "Baseline:Pos2  0.170000  0.113333      0.166667      0.030000      0.103333  \\\n",
       "Baseline:Pos3  0.176000  0.116667      0.168000      0.032000      0.108000   \n",
       "Baseline:Pos4  0.163333  0.116667      0.160000      0.033333      0.103333   \n",
       "\n",
       "               Tr 85-50 (s)  Tr 50-15 (s)  RRscat (s)  \n",
       "key                                                    \n",
       "Baseline:Pos2      0.046667      0.053333       0.010  \n",
       "Baseline:Pos3      0.050000      0.050000       0.010  \n",
       "Baseline:Pos4      0.050000      0.050000       0.015  "
      ]
     },
     "execution_count": 52,
     "metadata": {},
     "output_type": "execute_result"
    }
   ],
   "source": [
    "import pandas as pd\n",
    "\n",
    "df = pd. read_excel('/Users/liam/code/data/func/functional.xlsx')\n",
    "df.Timepoint = df.Timepoint.astype(str)\n",
    "#df = df.query('Arrhythmia == \"N\"')\n",
    "df['key'] = df.Timepoint + ':' + df['Well Number']\n",
    "del df['Plate']\n",
    "del df['Normalisation 1']\n",
    "del df['Normalisation 2']\n",
    "df = df.set_index('key')\n",
    "df.head(3)"
   ]
  },
  {
   "cell_type": "code",
   "execution_count": 53,
   "metadata": {},
   "outputs": [
    {
     "data": {
      "text/html": [
       "<div>\n",
       "<style scoped>\n",
       "    .dataframe tbody tr th:only-of-type {\n",
       "        vertical-align: middle;\n",
       "    }\n",
       "\n",
       "    .dataframe tbody tr th {\n",
       "        vertical-align: top;\n",
       "    }\n",
       "\n",
       "    .dataframe thead th {\n",
       "        text-align: right;\n",
       "    }\n",
       "</style>\n",
       "<table border=\"1\" class=\"dataframe\">\n",
       "  <thead>\n",
       "    <tr style=\"text-align: right;\">\n",
       "      <th></th>\n",
       "      <th></th>\n",
       "      <th>Dose</th>\n",
       "    </tr>\n",
       "    <tr>\n",
       "      <th>Drug</th>\n",
       "      <th>Timepoint</th>\n",
       "      <th></th>\n",
       "    </tr>\n",
       "  </thead>\n",
       "  <tbody>\n",
       "    <tr>\n",
       "      <th rowspan=\"5\" valign=\"top\">DMSO 1</th>\n",
       "      <th>Baseline</th>\n",
       "      <td>0.0</td>\n",
       "    </tr>\n",
       "    <tr>\n",
       "      <th>Baseline</th>\n",
       "      <td>0.0</td>\n",
       "    </tr>\n",
       "    <tr>\n",
       "      <th>Baseline</th>\n",
       "      <td>0.0</td>\n",
       "    </tr>\n",
       "    <tr>\n",
       "      <th>Baseline</th>\n",
       "      <td>0.0</td>\n",
       "    </tr>\n",
       "    <tr>\n",
       "      <th>Baseline</th>\n",
       "      <td>0.0</td>\n",
       "    </tr>\n",
       "    <tr>\n",
       "      <th>...</th>\n",
       "      <th>...</th>\n",
       "      <td>...</td>\n",
       "    </tr>\n",
       "    <tr>\n",
       "      <th rowspan=\"5\" valign=\"top\">Flecainide</th>\n",
       "      <th>5</th>\n",
       "      <td>30.0</td>\n",
       "    </tr>\n",
       "    <tr>\n",
       "      <th>5</th>\n",
       "      <td>30.0</td>\n",
       "    </tr>\n",
       "    <tr>\n",
       "      <th>5</th>\n",
       "      <td>30.0</td>\n",
       "    </tr>\n",
       "    <tr>\n",
       "      <th>5</th>\n",
       "      <td>30.0</td>\n",
       "    </tr>\n",
       "    <tr>\n",
       "      <th>5</th>\n",
       "      <td>30.0</td>\n",
       "    </tr>\n",
       "  </tbody>\n",
       "</table>\n",
       "<p>66 rows × 1 columns</p>\n",
       "</div>"
      ],
      "text/plain": [
       "                      Dose\n",
       "Drug       Timepoint      \n",
       "DMSO 1     Baseline    0.0\n",
       "           Baseline    0.0\n",
       "           Baseline    0.0\n",
       "           Baseline    0.0\n",
       "           Baseline    0.0\n",
       "...                    ...\n",
       "Flecainide 5          30.0\n",
       "           5          30.0\n",
       "           5          30.0\n",
       "           5          30.0\n",
       "           5          30.0\n",
       "\n",
       "[66 rows x 1 columns]"
      ]
     },
     "execution_count": 53,
     "metadata": {},
     "output_type": "execute_result"
    }
   ],
   "source": [
    "dose = df[['Drug', 'Dose', 'Timepoint']]\n",
    "dose = dose.set_index(['Drug', 'Timepoint'])\n",
    "dose"
   ]
  },
  {
   "cell_type": "code",
   "execution_count": null,
   "metadata": {},
   "outputs": [],
   "source": [
    "dose = df\n",
    "\n",
    "dose.loc['DMSO 1'].to_dict()"
   ]
  },
  {
   "cell_type": "code",
   "execution_count": 54,
   "metadata": {},
   "outputs": [],
   "source": [
    "data_cols = ['Force (uN)', 'Rate (bps)', 'Ta50 (s)', 'Tr50 (s)', 'Tpeak 85 (s)',\n",
    "            'Ta 15-30 (s)', 'Ta 30-85 (s)', 'Tr 85-50 (s)', 'Tr 50-15 (s)']\n"
   ]
  },
  {
   "cell_type": "code",
   "execution_count": 55,
   "metadata": {},
   "outputs": [],
   "source": [
    "def normalize_group(group, data_cols):\n",
    "    drug_data_dict = group.to_dict()\n",
    "    norm = {}\n",
    "    for data in data_cols:\n",
    "        norm[data] = {}\n",
    "        for k, v in drug_data_dict[data].items():\n",
    "            _, pos = k.split(':')\n",
    "            baseline_key = 'Baseline:' + pos\n",
    "            norm[data][k] = v / drug_data_dict[data][baseline_key]\n",
    "    return pd.DataFrame(norm)\n",
    "\n",
    "def replace_time(df):\n",
    "\n",
    "    df['Timepoint'] = df.index\n",
    "    df['Timepoint'] = df['Timepoint'].apply(lambda x: x.split(':')[0])\n",
    "\n",
    "    return df\n",
    "\n",
    "def normalize_group2(group, DMSO_, data_cols):\n",
    "\n",
    "    group = replace_time(group)\n",
    "    DMSO_ = replace_time(DMSO_)\n",
    "    drug_data_dict = group.to_dict()\n",
    "    norm = {}\n",
    "    for data in data_cols:\n",
    "        norm[data] = {}\n",
    "        for k, v in drug_data_dict[data].items():\n",
    "            time, _ = k.split(':')\n",
    "            mean = DMSO_.query('Timepoint == @time')[data].mean()\n",
    "            norm[data][k] = v / mean\n",
    "    return pd.DataFrame(norm)\n",
    "\n",
    "\n",
    "normalized_df = df.groupby('Drug').apply(normalize_group, data_cols)\n",
    "normalized_df = normalized_df.reset_index(level=['Drug'])\n",
    "DMSO = normalized_df.query('Drug == \"DMSO 1\"')\n",
    "normalized_df2 = normalized_df.groupby('Drug').apply(normalize_group2, DMSO, data_cols)\n"
   ]
  },
  {
   "cell_type": "code",
   "execution_count": null,
   "metadata": {},
   "outputs": [],
   "source": []
  },
  {
   "cell_type": "code",
   "execution_count": null,
   "metadata": {},
   "outputs": [],
   "source": [
    "\n"
   ]
  },
  {
   "cell_type": "code",
   "execution_count": null,
   "metadata": {},
   "outputs": [],
   "source": []
  },
  {
   "cell_type": "code",
   "execution_count": 56,
   "metadata": {},
   "outputs": [
    {
     "data": {
      "text/html": [
       "<div>\n",
       "<style scoped>\n",
       "    .dataframe tbody tr th:only-of-type {\n",
       "        vertical-align: middle;\n",
       "    }\n",
       "\n",
       "    .dataframe tbody tr th {\n",
       "        vertical-align: top;\n",
       "    }\n",
       "\n",
       "    .dataframe thead th {\n",
       "        text-align: right;\n",
       "    }\n",
       "</style>\n",
       "<table border=\"1\" class=\"dataframe\">\n",
       "  <thead>\n",
       "    <tr style=\"text-align: right;\">\n",
       "      <th></th>\n",
       "      <th></th>\n",
       "      <th>Force (uN)</th>\n",
       "      <th>Rate (bps)</th>\n",
       "      <th>Ta50 (s)</th>\n",
       "      <th>Tr50 (s)</th>\n",
       "      <th>Tpeak 85 (s)</th>\n",
       "      <th>Ta 15-30 (s)</th>\n",
       "      <th>Ta 30-85 (s)</th>\n",
       "      <th>Tr 85-50 (s)</th>\n",
       "      <th>Tr 50-15 (s)</th>\n",
       "      <th>index_copy</th>\n",
       "    </tr>\n",
       "    <tr>\n",
       "      <th>Drug</th>\n",
       "      <th></th>\n",
       "      <th></th>\n",
       "      <th></th>\n",
       "      <th></th>\n",
       "      <th></th>\n",
       "      <th></th>\n",
       "      <th></th>\n",
       "      <th></th>\n",
       "      <th></th>\n",
       "      <th></th>\n",
       "      <th></th>\n",
       "    </tr>\n",
       "  </thead>\n",
       "  <tbody>\n",
       "    <tr>\n",
       "      <th rowspan=\"5\" valign=\"top\">DMSO 1</th>\n",
       "      <th>Baseline:Pos2</th>\n",
       "      <td>1.0</td>\n",
       "      <td>1.0</td>\n",
       "      <td>1.0</td>\n",
       "      <td>1.0</td>\n",
       "      <td>1.0</td>\n",
       "      <td>1.0</td>\n",
       "      <td>1.0</td>\n",
       "      <td>1.0</td>\n",
       "      <td>1.0</td>\n",
       "      <td>Baseline:Pos2</td>\n",
       "    </tr>\n",
       "    <tr>\n",
       "      <th>Baseline:Pos3</th>\n",
       "      <td>1.0</td>\n",
       "      <td>1.0</td>\n",
       "      <td>1.0</td>\n",
       "      <td>1.0</td>\n",
       "      <td>1.0</td>\n",
       "      <td>1.0</td>\n",
       "      <td>1.0</td>\n",
       "      <td>1.0</td>\n",
       "      <td>1.0</td>\n",
       "      <td>Baseline:Pos3</td>\n",
       "    </tr>\n",
       "    <tr>\n",
       "      <th>Baseline:Pos4</th>\n",
       "      <td>1.0</td>\n",
       "      <td>1.0</td>\n",
       "      <td>1.0</td>\n",
       "      <td>1.0</td>\n",
       "      <td>1.0</td>\n",
       "      <td>1.0</td>\n",
       "      <td>1.0</td>\n",
       "      <td>1.0</td>\n",
       "      <td>1.0</td>\n",
       "      <td>Baseline:Pos4</td>\n",
       "    </tr>\n",
       "    <tr>\n",
       "      <th>Baseline:Pos5</th>\n",
       "      <td>1.0</td>\n",
       "      <td>1.0</td>\n",
       "      <td>1.0</td>\n",
       "      <td>1.0</td>\n",
       "      <td>1.0</td>\n",
       "      <td>1.0</td>\n",
       "      <td>1.0</td>\n",
       "      <td>1.0</td>\n",
       "      <td>1.0</td>\n",
       "      <td>Baseline:Pos5</td>\n",
       "    </tr>\n",
       "    <tr>\n",
       "      <th>Baseline:Pos6</th>\n",
       "      <td>1.0</td>\n",
       "      <td>1.0</td>\n",
       "      <td>1.0</td>\n",
       "      <td>1.0</td>\n",
       "      <td>1.0</td>\n",
       "      <td>1.0</td>\n",
       "      <td>1.0</td>\n",
       "      <td>1.0</td>\n",
       "      <td>1.0</td>\n",
       "      <td>Baseline:Pos6</td>\n",
       "    </tr>\n",
       "    <tr>\n",
       "      <th>...</th>\n",
       "      <th>...</th>\n",
       "      <td>...</td>\n",
       "      <td>...</td>\n",
       "      <td>...</td>\n",
       "      <td>...</td>\n",
       "      <td>...</td>\n",
       "      <td>...</td>\n",
       "      <td>...</td>\n",
       "      <td>...</td>\n",
       "      <td>...</td>\n",
       "      <td>...</td>\n",
       "    </tr>\n",
       "    <tr>\n",
       "      <th rowspan=\"5\" valign=\"top\">Flecainide</th>\n",
       "      <th>5:Pos50</th>\n",
       "      <td>0.0</td>\n",
       "      <td>0.0</td>\n",
       "      <td>0.0</td>\n",
       "      <td>0.0</td>\n",
       "      <td>0.0</td>\n",
       "      <td>0.0</td>\n",
       "      <td>0.0</td>\n",
       "      <td>0.0</td>\n",
       "      <td>0.0</td>\n",
       "      <td>5:Pos50</td>\n",
       "    </tr>\n",
       "    <tr>\n",
       "      <th>5:Pos51</th>\n",
       "      <td>0.0</td>\n",
       "      <td>0.0</td>\n",
       "      <td>0.0</td>\n",
       "      <td>0.0</td>\n",
       "      <td>0.0</td>\n",
       "      <td>0.0</td>\n",
       "      <td>0.0</td>\n",
       "      <td>0.0</td>\n",
       "      <td>0.0</td>\n",
       "      <td>5:Pos51</td>\n",
       "    </tr>\n",
       "    <tr>\n",
       "      <th>5:Pos52</th>\n",
       "      <td>0.0</td>\n",
       "      <td>0.0</td>\n",
       "      <td>0.0</td>\n",
       "      <td>0.0</td>\n",
       "      <td>0.0</td>\n",
       "      <td>0.0</td>\n",
       "      <td>0.0</td>\n",
       "      <td>0.0</td>\n",
       "      <td>0.0</td>\n",
       "      <td>5:Pos52</td>\n",
       "    </tr>\n",
       "    <tr>\n",
       "      <th>5:Pos53</th>\n",
       "      <td>0.0</td>\n",
       "      <td>0.0</td>\n",
       "      <td>0.0</td>\n",
       "      <td>0.0</td>\n",
       "      <td>0.0</td>\n",
       "      <td>0.0</td>\n",
       "      <td>0.0</td>\n",
       "      <td>0.0</td>\n",
       "      <td>0.0</td>\n",
       "      <td>5:Pos53</td>\n",
       "    </tr>\n",
       "    <tr>\n",
       "      <th>5:Pos54</th>\n",
       "      <td>0.0</td>\n",
       "      <td>0.0</td>\n",
       "      <td>0.0</td>\n",
       "      <td>0.0</td>\n",
       "      <td>0.0</td>\n",
       "      <td>0.0</td>\n",
       "      <td>0.0</td>\n",
       "      <td>0.0</td>\n",
       "      <td>0.0</td>\n",
       "      <td>5:Pos54</td>\n",
       "    </tr>\n",
       "  </tbody>\n",
       "</table>\n",
       "<p>66 rows × 10 columns</p>\n",
       "</div>"
      ],
      "text/plain": [
       "                          Force (uN)  Rate (bps)  Ta50 (s)  Tr50 (s)   \n",
       "Drug                                                                   \n",
       "DMSO 1     Baseline:Pos2         1.0         1.0       1.0       1.0  \\\n",
       "           Baseline:Pos3         1.0         1.0       1.0       1.0   \n",
       "           Baseline:Pos4         1.0         1.0       1.0       1.0   \n",
       "           Baseline:Pos5         1.0         1.0       1.0       1.0   \n",
       "           Baseline:Pos6         1.0         1.0       1.0       1.0   \n",
       "...                              ...         ...       ...       ...   \n",
       "Flecainide 5:Pos50               0.0         0.0       0.0       0.0   \n",
       "           5:Pos51               0.0         0.0       0.0       0.0   \n",
       "           5:Pos52               0.0         0.0       0.0       0.0   \n",
       "           5:Pos53               0.0         0.0       0.0       0.0   \n",
       "           5:Pos54               0.0         0.0       0.0       0.0   \n",
       "\n",
       "                          Tpeak 85 (s)  Ta 15-30 (s)  Ta 30-85 (s)   \n",
       "Drug                                                                 \n",
       "DMSO 1     Baseline:Pos2           1.0           1.0           1.0  \\\n",
       "           Baseline:Pos3           1.0           1.0           1.0   \n",
       "           Baseline:Pos4           1.0           1.0           1.0   \n",
       "           Baseline:Pos5           1.0           1.0           1.0   \n",
       "           Baseline:Pos6           1.0           1.0           1.0   \n",
       "...                                ...           ...           ...   \n",
       "Flecainide 5:Pos50                 0.0           0.0           0.0   \n",
       "           5:Pos51                 0.0           0.0           0.0   \n",
       "           5:Pos52                 0.0           0.0           0.0   \n",
       "           5:Pos53                 0.0           0.0           0.0   \n",
       "           5:Pos54                 0.0           0.0           0.0   \n",
       "\n",
       "                          Tr 85-50 (s)  Tr 50-15 (s)     index_copy  \n",
       "Drug                                                                 \n",
       "DMSO 1     Baseline:Pos2           1.0           1.0  Baseline:Pos2  \n",
       "           Baseline:Pos3           1.0           1.0  Baseline:Pos3  \n",
       "           Baseline:Pos4           1.0           1.0  Baseline:Pos4  \n",
       "           Baseline:Pos5           1.0           1.0  Baseline:Pos5  \n",
       "           Baseline:Pos6           1.0           1.0  Baseline:Pos6  \n",
       "...                                ...           ...            ...  \n",
       "Flecainide 5:Pos50                 0.0           0.0        5:Pos50  \n",
       "           5:Pos51                 0.0           0.0        5:Pos51  \n",
       "           5:Pos52                 0.0           0.0        5:Pos52  \n",
       "           5:Pos53                 0.0           0.0        5:Pos53  \n",
       "           5:Pos54                 0.0           0.0        5:Pos54  \n",
       "\n",
       "[66 rows x 10 columns]"
      ]
     },
     "execution_count": 56,
     "metadata": {},
     "output_type": "execute_result"
    }
   ],
   "source": [
    "normalized_df2['index_copy'] = normalized_df2.index\n",
    "normalized_df2['index_copy'] = normalized_df2['index_copy'].apply(lambda x: x[1])\n",
    "normalized_df2 = normalized_df2.fillna(0.0)\n",
    "normalized_df2\n"
   ]
  },
  {
   "cell_type": "code",
   "execution_count": 57,
   "metadata": {},
   "outputs": [
    {
     "data": {
      "text/html": [
       "<div>\n",
       "<style scoped>\n",
       "    .dataframe tbody tr th:only-of-type {\n",
       "        vertical-align: middle;\n",
       "    }\n",
       "\n",
       "    .dataframe tbody tr th {\n",
       "        vertical-align: top;\n",
       "    }\n",
       "\n",
       "    .dataframe thead th {\n",
       "        text-align: right;\n",
       "    }\n",
       "</style>\n",
       "<table border=\"1\" class=\"dataframe\">\n",
       "  <thead>\n",
       "    <tr style=\"text-align: right;\">\n",
       "      <th></th>\n",
       "      <th></th>\n",
       "      <th>Force (uN)</th>\n",
       "      <th>Rate (bps)</th>\n",
       "      <th>Ta50 (s)</th>\n",
       "      <th>Tr50 (s)</th>\n",
       "      <th>Tpeak 85 (s)</th>\n",
       "      <th>Ta 15-30 (s)</th>\n",
       "      <th>Ta 30-85 (s)</th>\n",
       "      <th>Tr 85-50 (s)</th>\n",
       "      <th>Tr 50-15 (s)</th>\n",
       "      <th>index_copy</th>\n",
       "      <th>Timepoint</th>\n",
       "      <th>pos</th>\n",
       "    </tr>\n",
       "    <tr>\n",
       "      <th>Drug</th>\n",
       "      <th></th>\n",
       "      <th></th>\n",
       "      <th></th>\n",
       "      <th></th>\n",
       "      <th></th>\n",
       "      <th></th>\n",
       "      <th></th>\n",
       "      <th></th>\n",
       "      <th></th>\n",
       "      <th></th>\n",
       "      <th></th>\n",
       "      <th></th>\n",
       "      <th></th>\n",
       "    </tr>\n",
       "  </thead>\n",
       "  <tbody>\n",
       "    <tr>\n",
       "      <th rowspan=\"5\" valign=\"top\">DMSO 1</th>\n",
       "      <th>Baseline:Pos2</th>\n",
       "      <td>1.0</td>\n",
       "      <td>1.0</td>\n",
       "      <td>1.0</td>\n",
       "      <td>1.0</td>\n",
       "      <td>1.0</td>\n",
       "      <td>1.0</td>\n",
       "      <td>1.0</td>\n",
       "      <td>1.0</td>\n",
       "      <td>1.0</td>\n",
       "      <td>Baseline:Pos2</td>\n",
       "      <td>Baseline</td>\n",
       "      <td>Pos2</td>\n",
       "    </tr>\n",
       "    <tr>\n",
       "      <th>Baseline:Pos3</th>\n",
       "      <td>1.0</td>\n",
       "      <td>1.0</td>\n",
       "      <td>1.0</td>\n",
       "      <td>1.0</td>\n",
       "      <td>1.0</td>\n",
       "      <td>1.0</td>\n",
       "      <td>1.0</td>\n",
       "      <td>1.0</td>\n",
       "      <td>1.0</td>\n",
       "      <td>Baseline:Pos3</td>\n",
       "      <td>Baseline</td>\n",
       "      <td>Pos3</td>\n",
       "    </tr>\n",
       "    <tr>\n",
       "      <th>Baseline:Pos4</th>\n",
       "      <td>1.0</td>\n",
       "      <td>1.0</td>\n",
       "      <td>1.0</td>\n",
       "      <td>1.0</td>\n",
       "      <td>1.0</td>\n",
       "      <td>1.0</td>\n",
       "      <td>1.0</td>\n",
       "      <td>1.0</td>\n",
       "      <td>1.0</td>\n",
       "      <td>Baseline:Pos4</td>\n",
       "      <td>Baseline</td>\n",
       "      <td>Pos4</td>\n",
       "    </tr>\n",
       "    <tr>\n",
       "      <th>Baseline:Pos5</th>\n",
       "      <td>1.0</td>\n",
       "      <td>1.0</td>\n",
       "      <td>1.0</td>\n",
       "      <td>1.0</td>\n",
       "      <td>1.0</td>\n",
       "      <td>1.0</td>\n",
       "      <td>1.0</td>\n",
       "      <td>1.0</td>\n",
       "      <td>1.0</td>\n",
       "      <td>Baseline:Pos5</td>\n",
       "      <td>Baseline</td>\n",
       "      <td>Pos5</td>\n",
       "    </tr>\n",
       "    <tr>\n",
       "      <th>Baseline:Pos6</th>\n",
       "      <td>1.0</td>\n",
       "      <td>1.0</td>\n",
       "      <td>1.0</td>\n",
       "      <td>1.0</td>\n",
       "      <td>1.0</td>\n",
       "      <td>1.0</td>\n",
       "      <td>1.0</td>\n",
       "      <td>1.0</td>\n",
       "      <td>1.0</td>\n",
       "      <td>Baseline:Pos6</td>\n",
       "      <td>Baseline</td>\n",
       "      <td>Pos6</td>\n",
       "    </tr>\n",
       "    <tr>\n",
       "      <th>...</th>\n",
       "      <th>...</th>\n",
       "      <td>...</td>\n",
       "      <td>...</td>\n",
       "      <td>...</td>\n",
       "      <td>...</td>\n",
       "      <td>...</td>\n",
       "      <td>...</td>\n",
       "      <td>...</td>\n",
       "      <td>...</td>\n",
       "      <td>...</td>\n",
       "      <td>...</td>\n",
       "      <td>...</td>\n",
       "      <td>...</td>\n",
       "    </tr>\n",
       "    <tr>\n",
       "      <th rowspan=\"5\" valign=\"top\">Flecainide</th>\n",
       "      <th>5:Pos50</th>\n",
       "      <td>0.0</td>\n",
       "      <td>0.0</td>\n",
       "      <td>0.0</td>\n",
       "      <td>0.0</td>\n",
       "      <td>0.0</td>\n",
       "      <td>0.0</td>\n",
       "      <td>0.0</td>\n",
       "      <td>0.0</td>\n",
       "      <td>0.0</td>\n",
       "      <td>5:Pos50</td>\n",
       "      <td>5</td>\n",
       "      <td>Pos50</td>\n",
       "    </tr>\n",
       "    <tr>\n",
       "      <th>5:Pos51</th>\n",
       "      <td>0.0</td>\n",
       "      <td>0.0</td>\n",
       "      <td>0.0</td>\n",
       "      <td>0.0</td>\n",
       "      <td>0.0</td>\n",
       "      <td>0.0</td>\n",
       "      <td>0.0</td>\n",
       "      <td>0.0</td>\n",
       "      <td>0.0</td>\n",
       "      <td>5:Pos51</td>\n",
       "      <td>5</td>\n",
       "      <td>Pos51</td>\n",
       "    </tr>\n",
       "    <tr>\n",
       "      <th>5:Pos52</th>\n",
       "      <td>0.0</td>\n",
       "      <td>0.0</td>\n",
       "      <td>0.0</td>\n",
       "      <td>0.0</td>\n",
       "      <td>0.0</td>\n",
       "      <td>0.0</td>\n",
       "      <td>0.0</td>\n",
       "      <td>0.0</td>\n",
       "      <td>0.0</td>\n",
       "      <td>5:Pos52</td>\n",
       "      <td>5</td>\n",
       "      <td>Pos52</td>\n",
       "    </tr>\n",
       "    <tr>\n",
       "      <th>5:Pos53</th>\n",
       "      <td>0.0</td>\n",
       "      <td>0.0</td>\n",
       "      <td>0.0</td>\n",
       "      <td>0.0</td>\n",
       "      <td>0.0</td>\n",
       "      <td>0.0</td>\n",
       "      <td>0.0</td>\n",
       "      <td>0.0</td>\n",
       "      <td>0.0</td>\n",
       "      <td>5:Pos53</td>\n",
       "      <td>5</td>\n",
       "      <td>Pos53</td>\n",
       "    </tr>\n",
       "    <tr>\n",
       "      <th>5:Pos54</th>\n",
       "      <td>0.0</td>\n",
       "      <td>0.0</td>\n",
       "      <td>0.0</td>\n",
       "      <td>0.0</td>\n",
       "      <td>0.0</td>\n",
       "      <td>0.0</td>\n",
       "      <td>0.0</td>\n",
       "      <td>0.0</td>\n",
       "      <td>0.0</td>\n",
       "      <td>5:Pos54</td>\n",
       "      <td>5</td>\n",
       "      <td>Pos54</td>\n",
       "    </tr>\n",
       "  </tbody>\n",
       "</table>\n",
       "<p>66 rows × 12 columns</p>\n",
       "</div>"
      ],
      "text/plain": [
       "                          Force (uN)  Rate (bps)  Ta50 (s)  Tr50 (s)   \n",
       "Drug                                                                   \n",
       "DMSO 1     Baseline:Pos2         1.0         1.0       1.0       1.0  \\\n",
       "           Baseline:Pos3         1.0         1.0       1.0       1.0   \n",
       "           Baseline:Pos4         1.0         1.0       1.0       1.0   \n",
       "           Baseline:Pos5         1.0         1.0       1.0       1.0   \n",
       "           Baseline:Pos6         1.0         1.0       1.0       1.0   \n",
       "...                              ...         ...       ...       ...   \n",
       "Flecainide 5:Pos50               0.0         0.0       0.0       0.0   \n",
       "           5:Pos51               0.0         0.0       0.0       0.0   \n",
       "           5:Pos52               0.0         0.0       0.0       0.0   \n",
       "           5:Pos53               0.0         0.0       0.0       0.0   \n",
       "           5:Pos54               0.0         0.0       0.0       0.0   \n",
       "\n",
       "                          Tpeak 85 (s)  Ta 15-30 (s)  Ta 30-85 (s)   \n",
       "Drug                                                                 \n",
       "DMSO 1     Baseline:Pos2           1.0           1.0           1.0  \\\n",
       "           Baseline:Pos3           1.0           1.0           1.0   \n",
       "           Baseline:Pos4           1.0           1.0           1.0   \n",
       "           Baseline:Pos5           1.0           1.0           1.0   \n",
       "           Baseline:Pos6           1.0           1.0           1.0   \n",
       "...                                ...           ...           ...   \n",
       "Flecainide 5:Pos50                 0.0           0.0           0.0   \n",
       "           5:Pos51                 0.0           0.0           0.0   \n",
       "           5:Pos52                 0.0           0.0           0.0   \n",
       "           5:Pos53                 0.0           0.0           0.0   \n",
       "           5:Pos54                 0.0           0.0           0.0   \n",
       "\n",
       "                          Tr 85-50 (s)  Tr 50-15 (s)     index_copy Timepoint   \n",
       "Drug                                                                            \n",
       "DMSO 1     Baseline:Pos2           1.0           1.0  Baseline:Pos2  Baseline  \\\n",
       "           Baseline:Pos3           1.0           1.0  Baseline:Pos3  Baseline   \n",
       "           Baseline:Pos4           1.0           1.0  Baseline:Pos4  Baseline   \n",
       "           Baseline:Pos5           1.0           1.0  Baseline:Pos5  Baseline   \n",
       "           Baseline:Pos6           1.0           1.0  Baseline:Pos6  Baseline   \n",
       "...                                ...           ...            ...       ...   \n",
       "Flecainide 5:Pos50                 0.0           0.0        5:Pos50         5   \n",
       "           5:Pos51                 0.0           0.0        5:Pos51         5   \n",
       "           5:Pos52                 0.0           0.0        5:Pos52         5   \n",
       "           5:Pos53                 0.0           0.0        5:Pos53         5   \n",
       "           5:Pos54                 0.0           0.0        5:Pos54         5   \n",
       "\n",
       "                            pos  \n",
       "Drug                             \n",
       "DMSO 1     Baseline:Pos2   Pos2  \n",
       "           Baseline:Pos3   Pos3  \n",
       "           Baseline:Pos4   Pos4  \n",
       "           Baseline:Pos5   Pos5  \n",
       "           Baseline:Pos6   Pos6  \n",
       "...                         ...  \n",
       "Flecainide 5:Pos50        Pos50  \n",
       "           5:Pos51        Pos51  \n",
       "           5:Pos52        Pos52  \n",
       "           5:Pos53        Pos53  \n",
       "           5:Pos54        Pos54  \n",
       "\n",
       "[66 rows x 12 columns]"
      ]
     },
     "execution_count": 57,
     "metadata": {},
     "output_type": "execute_result"
    }
   ],
   "source": [
    "normalized_df2[['Timepoint', 'pos']] = normalized_df2['index_copy'].str.split(':', expand=True)\n",
    "normalized_df2"
   ]
  },
  {
   "cell_type": "code",
   "execution_count": 81,
   "metadata": {},
   "outputs": [
    {
     "name": "stdout",
     "output_type": "stream",
     "text": [
      "DMSO 1\n",
      "DMSO 1\n",
      "DMSO 1\n",
      "DMSO 1\n"
     ]
    }
   ],
   "source": [
    "for gg, hh in normalized_df2.index[0:4]:\n",
    "    print(gg)"
   ]
  },
  {
   "cell_type": "code",
   "execution_count": 59,
   "metadata": {},
   "outputs": [
    {
     "data": {
      "text/html": [
       "<div>\n",
       "<style scoped>\n",
       "    .dataframe tbody tr th:only-of-type {\n",
       "        vertical-align: middle;\n",
       "    }\n",
       "\n",
       "    .dataframe tbody tr th {\n",
       "        vertical-align: top;\n",
       "    }\n",
       "\n",
       "    .dataframe thead th {\n",
       "        text-align: right;\n",
       "    }\n",
       "</style>\n",
       "<table border=\"1\" class=\"dataframe\">\n",
       "  <thead>\n",
       "    <tr style=\"text-align: right;\">\n",
       "      <th></th>\n",
       "      <th>Force (uN)</th>\n",
       "      <th>Timepoint</th>\n",
       "      <th>pos</th>\n",
       "    </tr>\n",
       "  </thead>\n",
       "  <tbody>\n",
       "    <tr>\n",
       "      <th>0</th>\n",
       "      <td>1.0</td>\n",
       "      <td>Baseline</td>\n",
       "      <td>Pos49</td>\n",
       "    </tr>\n",
       "    <tr>\n",
       "      <th>1</th>\n",
       "      <td>1.0</td>\n",
       "      <td>Baseline</td>\n",
       "      <td>Pos50</td>\n",
       "    </tr>\n",
       "  </tbody>\n",
       "</table>\n",
       "</div>"
      ],
      "text/plain": [
       "   Force (uN) Timepoint    pos\n",
       "0         1.0  Baseline  Pos49\n",
       "1         1.0  Baseline  Pos50"
      ]
     },
     "execution_count": 59,
     "metadata": {},
     "output_type": "execute_result"
    }
   ],
   "source": [
    "cols = ['Force (uN)', 'Timepoint', 'pos']\n",
    "force = normalized_df2.loc['Flecainide'][cols]\n",
    "force = force.reset_index()[cols]\n",
    "force.head(2)"
   ]
  },
  {
   "cell_type": "code",
   "execution_count": 60,
   "metadata": {},
   "outputs": [
    {
     "data": {
      "text/html": [
       "<div>\n",
       "<style scoped>\n",
       "    .dataframe tbody tr th:only-of-type {\n",
       "        vertical-align: middle;\n",
       "    }\n",
       "\n",
       "    .dataframe tbody tr th {\n",
       "        vertical-align: top;\n",
       "    }\n",
       "\n",
       "    .dataframe thead th {\n",
       "        text-align: right;\n",
       "    }\n",
       "</style>\n",
       "<table border=\"1\" class=\"dataframe\">\n",
       "  <thead>\n",
       "    <tr style=\"text-align: right;\">\n",
       "      <th></th>\n",
       "      <th>0</th>\n",
       "      <th>1</th>\n",
       "      <th>2</th>\n",
       "      <th>3</th>\n",
       "      <th>4</th>\n",
       "      <th>5</th>\n",
       "    </tr>\n",
       "    <tr>\n",
       "      <th>pos</th>\n",
       "      <th></th>\n",
       "      <th></th>\n",
       "      <th></th>\n",
       "      <th></th>\n",
       "      <th></th>\n",
       "      <th></th>\n",
       "    </tr>\n",
       "  </thead>\n",
       "  <tbody>\n",
       "    <tr>\n",
       "      <th>Pos49</th>\n",
       "      <td>1.0</td>\n",
       "      <td>1.007981</td>\n",
       "      <td>0.924156</td>\n",
       "      <td>0.775640</td>\n",
       "      <td>0.336898</td>\n",
       "      <td>0.0</td>\n",
       "    </tr>\n",
       "    <tr>\n",
       "      <th>Pos50</th>\n",
       "      <td>1.0</td>\n",
       "      <td>0.923075</td>\n",
       "      <td>0.899101</td>\n",
       "      <td>0.737749</td>\n",
       "      <td>0.000000</td>\n",
       "      <td>0.0</td>\n",
       "    </tr>\n",
       "    <tr>\n",
       "      <th>Pos51</th>\n",
       "      <td>1.0</td>\n",
       "      <td>1.034726</td>\n",
       "      <td>0.923600</td>\n",
       "      <td>0.967941</td>\n",
       "      <td>0.000000</td>\n",
       "      <td>0.0</td>\n",
       "    </tr>\n",
       "    <tr>\n",
       "      <th>Pos52</th>\n",
       "      <td>1.0</td>\n",
       "      <td>0.934911</td>\n",
       "      <td>0.867220</td>\n",
       "      <td>0.444713</td>\n",
       "      <td>0.000000</td>\n",
       "      <td>0.0</td>\n",
       "    </tr>\n",
       "    <tr>\n",
       "      <th>Pos53</th>\n",
       "      <td>1.0</td>\n",
       "      <td>0.931404</td>\n",
       "      <td>0.866976</td>\n",
       "      <td>0.547547</td>\n",
       "      <td>0.223976</td>\n",
       "      <td>0.0</td>\n",
       "    </tr>\n",
       "    <tr>\n",
       "      <th>Pos54</th>\n",
       "      <td>1.0</td>\n",
       "      <td>0.892453</td>\n",
       "      <td>0.885872</td>\n",
       "      <td>0.680743</td>\n",
       "      <td>0.000000</td>\n",
       "      <td>0.0</td>\n",
       "    </tr>\n",
       "  </tbody>\n",
       "</table>\n",
       "</div>"
      ],
      "text/plain": [
       "         0         1         2         3         4    5\n",
       "pos                                                    \n",
       "Pos49  1.0  1.007981  0.924156  0.775640  0.336898  0.0\n",
       "Pos50  1.0  0.923075  0.899101  0.737749  0.000000  0.0\n",
       "Pos51  1.0  1.034726  0.923600  0.967941  0.000000  0.0\n",
       "Pos52  1.0  0.934911  0.867220  0.444713  0.000000  0.0\n",
       "Pos53  1.0  0.931404  0.866976  0.547547  0.223976  0.0\n",
       "Pos54  1.0  0.892453  0.885872  0.680743  0.000000  0.0"
      ]
     },
     "execution_count": 60,
     "metadata": {},
     "output_type": "execute_result"
    }
   ],
   "source": [
    "pivoted = force.pivot(index=\"Timepoint\", columns=\"pos\", values=\"Force (uN)\").T\n",
    "#pivoted = pivoted[map(str, sorted(map(float, pivoted.columns)))]\n",
    "pivoted = pivoted[['Baseline', '1', '2', '3', '4', '5']]\n",
    "pivoted.columns = [0, 1, 2, 3, 4, 5]\n",
    "pivoted"
   ]
  },
  {
   "cell_type": "code",
   "execution_count": 61,
   "metadata": {},
   "outputs": [
    {
     "data": {
      "text/html": [
       "<div>\n",
       "<style scoped>\n",
       "    .dataframe tbody tr th:only-of-type {\n",
       "        vertical-align: middle;\n",
       "    }\n",
       "\n",
       "    .dataframe tbody tr th {\n",
       "        vertical-align: top;\n",
       "    }\n",
       "\n",
       "    .dataframe thead th {\n",
       "        text-align: right;\n",
       "    }\n",
       "</style>\n",
       "<table border=\"1\" class=\"dataframe\">\n",
       "  <thead>\n",
       "    <tr style=\"text-align: right;\">\n",
       "      <th></th>\n",
       "      <th>0</th>\n",
       "      <th>1</th>\n",
       "      <th>2</th>\n",
       "      <th>3</th>\n",
       "      <th>4</th>\n",
       "      <th>5</th>\n",
       "    </tr>\n",
       "  </thead>\n",
       "  <tbody>\n",
       "    <tr>\n",
       "      <th>count</th>\n",
       "      <td>6.0</td>\n",
       "      <td>6.000000</td>\n",
       "      <td>6.000000</td>\n",
       "      <td>6.000000</td>\n",
       "      <td>6.000000</td>\n",
       "      <td>6.0</td>\n",
       "    </tr>\n",
       "    <tr>\n",
       "      <th>mean</th>\n",
       "      <td>1.0</td>\n",
       "      <td>0.954092</td>\n",
       "      <td>0.894488</td>\n",
       "      <td>0.692389</td>\n",
       "      <td>0.093479</td>\n",
       "      <td>0.0</td>\n",
       "    </tr>\n",
       "    <tr>\n",
       "      <th>std</th>\n",
       "      <td>0.0</td>\n",
       "      <td>0.054863</td>\n",
       "      <td>0.025782</td>\n",
       "      <td>0.182962</td>\n",
       "      <td>0.149154</td>\n",
       "      <td>0.0</td>\n",
       "    </tr>\n",
       "    <tr>\n",
       "      <th>min</th>\n",
       "      <td>1.0</td>\n",
       "      <td>0.892453</td>\n",
       "      <td>0.866976</td>\n",
       "      <td>0.444713</td>\n",
       "      <td>0.000000</td>\n",
       "      <td>0.0</td>\n",
       "    </tr>\n",
       "    <tr>\n",
       "      <th>25%</th>\n",
       "      <td>1.0</td>\n",
       "      <td>0.925157</td>\n",
       "      <td>0.871883</td>\n",
       "      <td>0.580846</td>\n",
       "      <td>0.000000</td>\n",
       "      <td>0.0</td>\n",
       "    </tr>\n",
       "    <tr>\n",
       "      <th>50%</th>\n",
       "      <td>1.0</td>\n",
       "      <td>0.933158</td>\n",
       "      <td>0.892487</td>\n",
       "      <td>0.709246</td>\n",
       "      <td>0.000000</td>\n",
       "      <td>0.0</td>\n",
       "    </tr>\n",
       "    <tr>\n",
       "      <th>75%</th>\n",
       "      <td>1.0</td>\n",
       "      <td>0.989713</td>\n",
       "      <td>0.917476</td>\n",
       "      <td>0.766167</td>\n",
       "      <td>0.167982</td>\n",
       "      <td>0.0</td>\n",
       "    </tr>\n",
       "    <tr>\n",
       "      <th>max</th>\n",
       "      <td>1.0</td>\n",
       "      <td>1.034726</td>\n",
       "      <td>0.924156</td>\n",
       "      <td>0.967941</td>\n",
       "      <td>0.336898</td>\n",
       "      <td>0.0</td>\n",
       "    </tr>\n",
       "  </tbody>\n",
       "</table>\n",
       "</div>"
      ],
      "text/plain": [
       "         0         1         2         3         4    5\n",
       "count  6.0  6.000000  6.000000  6.000000  6.000000  6.0\n",
       "mean   1.0  0.954092  0.894488  0.692389  0.093479  0.0\n",
       "std    0.0  0.054863  0.025782  0.182962  0.149154  0.0\n",
       "min    1.0  0.892453  0.866976  0.444713  0.000000  0.0\n",
       "25%    1.0  0.925157  0.871883  0.580846  0.000000  0.0\n",
       "50%    1.0  0.933158  0.892487  0.709246  0.000000  0.0\n",
       "75%    1.0  0.989713  0.917476  0.766167  0.167982  0.0\n",
       "max    1.0  1.034726  0.924156  0.967941  0.336898  0.0"
      ]
     },
     "execution_count": 61,
     "metadata": {},
     "output_type": "execute_result"
    }
   ],
   "source": [
    "pivoted.describe()"
   ]
  },
  {
   "cell_type": "code",
   "execution_count": 62,
   "metadata": {},
   "outputs": [
    {
     "data": {
      "text/plain": [
       "{0: {'count': 6.0,\n",
       "  'mean': 1.0,\n",
       "  'std': 0.0,\n",
       "  'min': 1.0,\n",
       "  '25%': 1.0,\n",
       "  '50%': 1.0,\n",
       "  '75%': 1.0,\n",
       "  'max': 1.0},\n",
       " 1: {'count': 6.0,\n",
       "  'mean': 0.9540916092271284,\n",
       "  'std': 0.05486326051730495,\n",
       "  'min': 0.8924534243124872,\n",
       "  '25%': 0.9251568412354372,\n",
       "  '50%': 0.9331575048066532,\n",
       "  '75%': 0.9897133837942197,\n",
       "  'max': 1.0347259246018703},\n",
       " 2: {'count': 6.0,\n",
       "  'mean': 0.8944877108817817,\n",
       "  'std': 0.025782456484857868,\n",
       "  'min': 0.8669763872250514,\n",
       "  '25%': 0.8718829626408527,\n",
       "  '50%': 0.8924868098175868,\n",
       "  '75%': 0.9174757243729547,\n",
       "  'max': 0.9241558822904464},\n",
       " 3: {'count': 6.0,\n",
       "  'mean': 0.692388752559146,\n",
       "  'std': 0.18296180688746289,\n",
       "  'min': 0.4447128820739188,\n",
       "  '25%': 0.5808463121439711,\n",
       "  '50%': 0.7092460273611443,\n",
       "  '75%': 0.7661668399933939,\n",
       "  'max': 0.9679407272829448},\n",
       " 4: {'count': 6.0,\n",
       "  'mean': 0.09347886856514419,\n",
       "  'std': 0.1491544667976107,\n",
       "  'min': 0.0,\n",
       "  '25%': 0.0,\n",
       "  '50%': 0.0,\n",
       "  '75%': 0.16798170637115273,\n",
       "  'max': 0.3368976028959948},\n",
       " 5: {'count': 6.0,\n",
       "  'mean': 0.0,\n",
       "  'std': 0.0,\n",
       "  'min': 0.0,\n",
       "  '25%': 0.0,\n",
       "  '50%': 0.0,\n",
       "  '75%': 0.0,\n",
       "  'max': 0.0}}"
      ]
     },
     "execution_count": 62,
     "metadata": {},
     "output_type": "execute_result"
    }
   ],
   "source": [
    "datas = pivoted.describe().to_dict()\n",
    "datas"
   ]
  },
  {
   "cell_type": "code",
   "execution_count": 84,
   "metadata": {},
   "outputs": [],
   "source": [
    "xs = [flec['Dose'][str(time_point)] for time_point in list(datas.keys())]\n",
    "ys = [v.get('50%') for v in datas.values()]\n",
    "stds = [v.get('std') for v in datas.values()]"
   ]
  },
  {
   "cell_type": "code",
   "execution_count": 85,
   "metadata": {},
   "outputs": [
    {
     "data": {
      "text/plain": [
       "{'Dose': {'Baseline': 0.0,\n",
       "  '1': 0.3,\n",
       "  '2': 1.0,\n",
       "  '3': 3.0,\n",
       "  '4': 10.0,\n",
       "  '5': 30.0,\n",
       "  '0': 0}}"
      ]
     },
     "execution_count": 85,
     "metadata": {},
     "output_type": "execute_result"
    }
   ],
   "source": [
    "flec\n"
   ]
  },
  {
   "cell_type": "code",
   "execution_count": 86,
   "metadata": {},
   "outputs": [
    {
     "data": {
      "application/vnd.plotly.v1+json": {
       "config": {
        "plotlyServerURL": "https://plot.ly"
       },
       "data": [
        {
         "error_y": {
          "array": [
           0,
           0.05486326051730495,
           0.025782456484857868,
           0.18296180688746289,
           0.1491544667976107,
           0
          ],
          "type": "data",
          "visible": true
         },
         "type": "scatter",
         "x": [
          0,
          0.3,
          1,
          3,
          10,
          30
         ],
         "y": [
          1,
          0.9331575048066532,
          0.8924868098175868,
          0.7092460273611443,
          0,
          0
         ]
        }
       ],
       "layout": {
        "template": {
         "data": {
          "bar": [
           {
            "error_x": {
             "color": "#2a3f5f"
            },
            "error_y": {
             "color": "#2a3f5f"
            },
            "marker": {
             "line": {
              "color": "#E5ECF6",
              "width": 0.5
             },
             "pattern": {
              "fillmode": "overlay",
              "size": 10,
              "solidity": 0.2
             }
            },
            "type": "bar"
           }
          ],
          "barpolar": [
           {
            "marker": {
             "line": {
              "color": "#E5ECF6",
              "width": 0.5
             },
             "pattern": {
              "fillmode": "overlay",
              "size": 10,
              "solidity": 0.2
             }
            },
            "type": "barpolar"
           }
          ],
          "carpet": [
           {
            "aaxis": {
             "endlinecolor": "#2a3f5f",
             "gridcolor": "white",
             "linecolor": "white",
             "minorgridcolor": "white",
             "startlinecolor": "#2a3f5f"
            },
            "baxis": {
             "endlinecolor": "#2a3f5f",
             "gridcolor": "white",
             "linecolor": "white",
             "minorgridcolor": "white",
             "startlinecolor": "#2a3f5f"
            },
            "type": "carpet"
           }
          ],
          "choropleth": [
           {
            "colorbar": {
             "outlinewidth": 0,
             "ticks": ""
            },
            "type": "choropleth"
           }
          ],
          "contour": [
           {
            "colorbar": {
             "outlinewidth": 0,
             "ticks": ""
            },
            "colorscale": [
             [
              0,
              "#0d0887"
             ],
             [
              0.1111111111111111,
              "#46039f"
             ],
             [
              0.2222222222222222,
              "#7201a8"
             ],
             [
              0.3333333333333333,
              "#9c179e"
             ],
             [
              0.4444444444444444,
              "#bd3786"
             ],
             [
              0.5555555555555556,
              "#d8576b"
             ],
             [
              0.6666666666666666,
              "#ed7953"
             ],
             [
              0.7777777777777778,
              "#fb9f3a"
             ],
             [
              0.8888888888888888,
              "#fdca26"
             ],
             [
              1,
              "#f0f921"
             ]
            ],
            "type": "contour"
           }
          ],
          "contourcarpet": [
           {
            "colorbar": {
             "outlinewidth": 0,
             "ticks": ""
            },
            "type": "contourcarpet"
           }
          ],
          "heatmap": [
           {
            "colorbar": {
             "outlinewidth": 0,
             "ticks": ""
            },
            "colorscale": [
             [
              0,
              "#0d0887"
             ],
             [
              0.1111111111111111,
              "#46039f"
             ],
             [
              0.2222222222222222,
              "#7201a8"
             ],
             [
              0.3333333333333333,
              "#9c179e"
             ],
             [
              0.4444444444444444,
              "#bd3786"
             ],
             [
              0.5555555555555556,
              "#d8576b"
             ],
             [
              0.6666666666666666,
              "#ed7953"
             ],
             [
              0.7777777777777778,
              "#fb9f3a"
             ],
             [
              0.8888888888888888,
              "#fdca26"
             ],
             [
              1,
              "#f0f921"
             ]
            ],
            "type": "heatmap"
           }
          ],
          "heatmapgl": [
           {
            "colorbar": {
             "outlinewidth": 0,
             "ticks": ""
            },
            "colorscale": [
             [
              0,
              "#0d0887"
             ],
             [
              0.1111111111111111,
              "#46039f"
             ],
             [
              0.2222222222222222,
              "#7201a8"
             ],
             [
              0.3333333333333333,
              "#9c179e"
             ],
             [
              0.4444444444444444,
              "#bd3786"
             ],
             [
              0.5555555555555556,
              "#d8576b"
             ],
             [
              0.6666666666666666,
              "#ed7953"
             ],
             [
              0.7777777777777778,
              "#fb9f3a"
             ],
             [
              0.8888888888888888,
              "#fdca26"
             ],
             [
              1,
              "#f0f921"
             ]
            ],
            "type": "heatmapgl"
           }
          ],
          "histogram": [
           {
            "marker": {
             "pattern": {
              "fillmode": "overlay",
              "size": 10,
              "solidity": 0.2
             }
            },
            "type": "histogram"
           }
          ],
          "histogram2d": [
           {
            "colorbar": {
             "outlinewidth": 0,
             "ticks": ""
            },
            "colorscale": [
             [
              0,
              "#0d0887"
             ],
             [
              0.1111111111111111,
              "#46039f"
             ],
             [
              0.2222222222222222,
              "#7201a8"
             ],
             [
              0.3333333333333333,
              "#9c179e"
             ],
             [
              0.4444444444444444,
              "#bd3786"
             ],
             [
              0.5555555555555556,
              "#d8576b"
             ],
             [
              0.6666666666666666,
              "#ed7953"
             ],
             [
              0.7777777777777778,
              "#fb9f3a"
             ],
             [
              0.8888888888888888,
              "#fdca26"
             ],
             [
              1,
              "#f0f921"
             ]
            ],
            "type": "histogram2d"
           }
          ],
          "histogram2dcontour": [
           {
            "colorbar": {
             "outlinewidth": 0,
             "ticks": ""
            },
            "colorscale": [
             [
              0,
              "#0d0887"
             ],
             [
              0.1111111111111111,
              "#46039f"
             ],
             [
              0.2222222222222222,
              "#7201a8"
             ],
             [
              0.3333333333333333,
              "#9c179e"
             ],
             [
              0.4444444444444444,
              "#bd3786"
             ],
             [
              0.5555555555555556,
              "#d8576b"
             ],
             [
              0.6666666666666666,
              "#ed7953"
             ],
             [
              0.7777777777777778,
              "#fb9f3a"
             ],
             [
              0.8888888888888888,
              "#fdca26"
             ],
             [
              1,
              "#f0f921"
             ]
            ],
            "type": "histogram2dcontour"
           }
          ],
          "mesh3d": [
           {
            "colorbar": {
             "outlinewidth": 0,
             "ticks": ""
            },
            "type": "mesh3d"
           }
          ],
          "parcoords": [
           {
            "line": {
             "colorbar": {
              "outlinewidth": 0,
              "ticks": ""
             }
            },
            "type": "parcoords"
           }
          ],
          "pie": [
           {
            "automargin": true,
            "type": "pie"
           }
          ],
          "scatter": [
           {
            "fillpattern": {
             "fillmode": "overlay",
             "size": 10,
             "solidity": 0.2
            },
            "type": "scatter"
           }
          ],
          "scatter3d": [
           {
            "line": {
             "colorbar": {
              "outlinewidth": 0,
              "ticks": ""
             }
            },
            "marker": {
             "colorbar": {
              "outlinewidth": 0,
              "ticks": ""
             }
            },
            "type": "scatter3d"
           }
          ],
          "scattercarpet": [
           {
            "marker": {
             "colorbar": {
              "outlinewidth": 0,
              "ticks": ""
             }
            },
            "type": "scattercarpet"
           }
          ],
          "scattergeo": [
           {
            "marker": {
             "colorbar": {
              "outlinewidth": 0,
              "ticks": ""
             }
            },
            "type": "scattergeo"
           }
          ],
          "scattergl": [
           {
            "marker": {
             "colorbar": {
              "outlinewidth": 0,
              "ticks": ""
             }
            },
            "type": "scattergl"
           }
          ],
          "scattermapbox": [
           {
            "marker": {
             "colorbar": {
              "outlinewidth": 0,
              "ticks": ""
             }
            },
            "type": "scattermapbox"
           }
          ],
          "scatterpolar": [
           {
            "marker": {
             "colorbar": {
              "outlinewidth": 0,
              "ticks": ""
             }
            },
            "type": "scatterpolar"
           }
          ],
          "scatterpolargl": [
           {
            "marker": {
             "colorbar": {
              "outlinewidth": 0,
              "ticks": ""
             }
            },
            "type": "scatterpolargl"
           }
          ],
          "scatterternary": [
           {
            "marker": {
             "colorbar": {
              "outlinewidth": 0,
              "ticks": ""
             }
            },
            "type": "scatterternary"
           }
          ],
          "surface": [
           {
            "colorbar": {
             "outlinewidth": 0,
             "ticks": ""
            },
            "colorscale": [
             [
              0,
              "#0d0887"
             ],
             [
              0.1111111111111111,
              "#46039f"
             ],
             [
              0.2222222222222222,
              "#7201a8"
             ],
             [
              0.3333333333333333,
              "#9c179e"
             ],
             [
              0.4444444444444444,
              "#bd3786"
             ],
             [
              0.5555555555555556,
              "#d8576b"
             ],
             [
              0.6666666666666666,
              "#ed7953"
             ],
             [
              0.7777777777777778,
              "#fb9f3a"
             ],
             [
              0.8888888888888888,
              "#fdca26"
             ],
             [
              1,
              "#f0f921"
             ]
            ],
            "type": "surface"
           }
          ],
          "table": [
           {
            "cells": {
             "fill": {
              "color": "#EBF0F8"
             },
             "line": {
              "color": "white"
             }
            },
            "header": {
             "fill": {
              "color": "#C8D4E3"
             },
             "line": {
              "color": "white"
             }
            },
            "type": "table"
           }
          ]
         },
         "layout": {
          "annotationdefaults": {
           "arrowcolor": "#2a3f5f",
           "arrowhead": 0,
           "arrowwidth": 1
          },
          "autotypenumbers": "strict",
          "coloraxis": {
           "colorbar": {
            "outlinewidth": 0,
            "ticks": ""
           }
          },
          "colorscale": {
           "diverging": [
            [
             0,
             "#8e0152"
            ],
            [
             0.1,
             "#c51b7d"
            ],
            [
             0.2,
             "#de77ae"
            ],
            [
             0.3,
             "#f1b6da"
            ],
            [
             0.4,
             "#fde0ef"
            ],
            [
             0.5,
             "#f7f7f7"
            ],
            [
             0.6,
             "#e6f5d0"
            ],
            [
             0.7,
             "#b8e186"
            ],
            [
             0.8,
             "#7fbc41"
            ],
            [
             0.9,
             "#4d9221"
            ],
            [
             1,
             "#276419"
            ]
           ],
           "sequential": [
            [
             0,
             "#0d0887"
            ],
            [
             0.1111111111111111,
             "#46039f"
            ],
            [
             0.2222222222222222,
             "#7201a8"
            ],
            [
             0.3333333333333333,
             "#9c179e"
            ],
            [
             0.4444444444444444,
             "#bd3786"
            ],
            [
             0.5555555555555556,
             "#d8576b"
            ],
            [
             0.6666666666666666,
             "#ed7953"
            ],
            [
             0.7777777777777778,
             "#fb9f3a"
            ],
            [
             0.8888888888888888,
             "#fdca26"
            ],
            [
             1,
             "#f0f921"
            ]
           ],
           "sequentialminus": [
            [
             0,
             "#0d0887"
            ],
            [
             0.1111111111111111,
             "#46039f"
            ],
            [
             0.2222222222222222,
             "#7201a8"
            ],
            [
             0.3333333333333333,
             "#9c179e"
            ],
            [
             0.4444444444444444,
             "#bd3786"
            ],
            [
             0.5555555555555556,
             "#d8576b"
            ],
            [
             0.6666666666666666,
             "#ed7953"
            ],
            [
             0.7777777777777778,
             "#fb9f3a"
            ],
            [
             0.8888888888888888,
             "#fdca26"
            ],
            [
             1,
             "#f0f921"
            ]
           ]
          },
          "colorway": [
           "#636efa",
           "#EF553B",
           "#00cc96",
           "#ab63fa",
           "#FFA15A",
           "#19d3f3",
           "#FF6692",
           "#B6E880",
           "#FF97FF",
           "#FECB52"
          ],
          "font": {
           "color": "#2a3f5f"
          },
          "geo": {
           "bgcolor": "white",
           "lakecolor": "white",
           "landcolor": "#E5ECF6",
           "showlakes": true,
           "showland": true,
           "subunitcolor": "white"
          },
          "hoverlabel": {
           "align": "left"
          },
          "hovermode": "closest",
          "mapbox": {
           "style": "light"
          },
          "paper_bgcolor": "white",
          "plot_bgcolor": "#E5ECF6",
          "polar": {
           "angularaxis": {
            "gridcolor": "white",
            "linecolor": "white",
            "ticks": ""
           },
           "bgcolor": "#E5ECF6",
           "radialaxis": {
            "gridcolor": "white",
            "linecolor": "white",
            "ticks": ""
           }
          },
          "scene": {
           "xaxis": {
            "backgroundcolor": "#E5ECF6",
            "gridcolor": "white",
            "gridwidth": 2,
            "linecolor": "white",
            "showbackground": true,
            "ticks": "",
            "zerolinecolor": "white"
           },
           "yaxis": {
            "backgroundcolor": "#E5ECF6",
            "gridcolor": "white",
            "gridwidth": 2,
            "linecolor": "white",
            "showbackground": true,
            "ticks": "",
            "zerolinecolor": "white"
           },
           "zaxis": {
            "backgroundcolor": "#E5ECF6",
            "gridcolor": "white",
            "gridwidth": 2,
            "linecolor": "white",
            "showbackground": true,
            "ticks": "",
            "zerolinecolor": "white"
           }
          },
          "shapedefaults": {
           "line": {
            "color": "#2a3f5f"
           }
          },
          "ternary": {
           "aaxis": {
            "gridcolor": "white",
            "linecolor": "white",
            "ticks": ""
           },
           "baxis": {
            "gridcolor": "white",
            "linecolor": "white",
            "ticks": ""
           },
           "bgcolor": "#E5ECF6",
           "caxis": {
            "gridcolor": "white",
            "linecolor": "white",
            "ticks": ""
           }
          },
          "title": {
           "x": 0.05
          },
          "xaxis": {
           "automargin": true,
           "gridcolor": "white",
           "linecolor": "white",
           "ticks": "",
           "title": {
            "standoff": 15
           },
           "zerolinecolor": "white",
           "zerolinewidth": 2
          },
          "yaxis": {
           "automargin": true,
           "gridcolor": "white",
           "linecolor": "white",
           "ticks": "",
           "title": {
            "standoff": 15
           },
           "zerolinecolor": "white",
           "zerolinewidth": 2
          }
         }
        },
        "xaxis": {
         "type": "log"
        }
       }
      }
     },
     "metadata": {},
     "output_type": "display_data"
    }
   ],
   "source": [
    "import plotly.graph_objects as go\n",
    "\n",
    "fig = go.Figure(data=go.Scatter(\n",
    "        x=xs,\n",
    "        y=ys,\n",
    "        error_y=dict(\n",
    "            type='data', # value of error bar given in data coordinates\n",
    "            array=stds,\n",
    "            visible=True)\n",
    "    ))\n",
    "fig.update_xaxes(type=\"log\")\n",
    "fig.show()"
   ]
  },
  {
   "cell_type": "code",
   "execution_count": 88,
   "metadata": {},
   "outputs": [
    {
     "data": {
      "application/vnd.plotly.v1+json": {
       "config": {
        "plotlyServerURL": "https://plot.ly"
       },
       "data": [
        {
         "error_y": {
          "array": [
           0,
           0.05486326051730495,
           0.025782456484857868,
           0.18296180688746289,
           0.1491544667976107,
           0
          ],
          "arrayminus": [
           0,
           0.05486326051730495,
           0.025782456484857868,
           0.18296180688746289,
           0.1491544667976107,
           0
          ]
         },
         "hovertemplate": "x=%{x}<br>y=%{y}<extra></extra>",
         "legendgroup": "",
         "marker": {
          "color": "#636efa",
          "symbol": "circle"
         },
         "mode": "markers",
         "name": "",
         "orientation": "v",
         "showlegend": false,
         "type": "scatter",
         "x": [
          0,
          0.3,
          1,
          3,
          10,
          30
         ],
         "xaxis": "x",
         "y": [
          1,
          0.9331575048066532,
          0.8924868098175868,
          0.7092460273611443,
          0,
          0
         ],
         "yaxis": "y"
        }
       ],
       "layout": {
        "legend": {
         "tracegroupgap": 0
        },
        "margin": {
         "t": 60
        },
        "template": {
         "data": {
          "bar": [
           {
            "error_x": {
             "color": "#2a3f5f"
            },
            "error_y": {
             "color": "#2a3f5f"
            },
            "marker": {
             "line": {
              "color": "#E5ECF6",
              "width": 0.5
             },
             "pattern": {
              "fillmode": "overlay",
              "size": 10,
              "solidity": 0.2
             }
            },
            "type": "bar"
           }
          ],
          "barpolar": [
           {
            "marker": {
             "line": {
              "color": "#E5ECF6",
              "width": 0.5
             },
             "pattern": {
              "fillmode": "overlay",
              "size": 10,
              "solidity": 0.2
             }
            },
            "type": "barpolar"
           }
          ],
          "carpet": [
           {
            "aaxis": {
             "endlinecolor": "#2a3f5f",
             "gridcolor": "white",
             "linecolor": "white",
             "minorgridcolor": "white",
             "startlinecolor": "#2a3f5f"
            },
            "baxis": {
             "endlinecolor": "#2a3f5f",
             "gridcolor": "white",
             "linecolor": "white",
             "minorgridcolor": "white",
             "startlinecolor": "#2a3f5f"
            },
            "type": "carpet"
           }
          ],
          "choropleth": [
           {
            "colorbar": {
             "outlinewidth": 0,
             "ticks": ""
            },
            "type": "choropleth"
           }
          ],
          "contour": [
           {
            "colorbar": {
             "outlinewidth": 0,
             "ticks": ""
            },
            "colorscale": [
             [
              0,
              "#0d0887"
             ],
             [
              0.1111111111111111,
              "#46039f"
             ],
             [
              0.2222222222222222,
              "#7201a8"
             ],
             [
              0.3333333333333333,
              "#9c179e"
             ],
             [
              0.4444444444444444,
              "#bd3786"
             ],
             [
              0.5555555555555556,
              "#d8576b"
             ],
             [
              0.6666666666666666,
              "#ed7953"
             ],
             [
              0.7777777777777778,
              "#fb9f3a"
             ],
             [
              0.8888888888888888,
              "#fdca26"
             ],
             [
              1,
              "#f0f921"
             ]
            ],
            "type": "contour"
           }
          ],
          "contourcarpet": [
           {
            "colorbar": {
             "outlinewidth": 0,
             "ticks": ""
            },
            "type": "contourcarpet"
           }
          ],
          "heatmap": [
           {
            "colorbar": {
             "outlinewidth": 0,
             "ticks": ""
            },
            "colorscale": [
             [
              0,
              "#0d0887"
             ],
             [
              0.1111111111111111,
              "#46039f"
             ],
             [
              0.2222222222222222,
              "#7201a8"
             ],
             [
              0.3333333333333333,
              "#9c179e"
             ],
             [
              0.4444444444444444,
              "#bd3786"
             ],
             [
              0.5555555555555556,
              "#d8576b"
             ],
             [
              0.6666666666666666,
              "#ed7953"
             ],
             [
              0.7777777777777778,
              "#fb9f3a"
             ],
             [
              0.8888888888888888,
              "#fdca26"
             ],
             [
              1,
              "#f0f921"
             ]
            ],
            "type": "heatmap"
           }
          ],
          "heatmapgl": [
           {
            "colorbar": {
             "outlinewidth": 0,
             "ticks": ""
            },
            "colorscale": [
             [
              0,
              "#0d0887"
             ],
             [
              0.1111111111111111,
              "#46039f"
             ],
             [
              0.2222222222222222,
              "#7201a8"
             ],
             [
              0.3333333333333333,
              "#9c179e"
             ],
             [
              0.4444444444444444,
              "#bd3786"
             ],
             [
              0.5555555555555556,
              "#d8576b"
             ],
             [
              0.6666666666666666,
              "#ed7953"
             ],
             [
              0.7777777777777778,
              "#fb9f3a"
             ],
             [
              0.8888888888888888,
              "#fdca26"
             ],
             [
              1,
              "#f0f921"
             ]
            ],
            "type": "heatmapgl"
           }
          ],
          "histogram": [
           {
            "marker": {
             "pattern": {
              "fillmode": "overlay",
              "size": 10,
              "solidity": 0.2
             }
            },
            "type": "histogram"
           }
          ],
          "histogram2d": [
           {
            "colorbar": {
             "outlinewidth": 0,
             "ticks": ""
            },
            "colorscale": [
             [
              0,
              "#0d0887"
             ],
             [
              0.1111111111111111,
              "#46039f"
             ],
             [
              0.2222222222222222,
              "#7201a8"
             ],
             [
              0.3333333333333333,
              "#9c179e"
             ],
             [
              0.4444444444444444,
              "#bd3786"
             ],
             [
              0.5555555555555556,
              "#d8576b"
             ],
             [
              0.6666666666666666,
              "#ed7953"
             ],
             [
              0.7777777777777778,
              "#fb9f3a"
             ],
             [
              0.8888888888888888,
              "#fdca26"
             ],
             [
              1,
              "#f0f921"
             ]
            ],
            "type": "histogram2d"
           }
          ],
          "histogram2dcontour": [
           {
            "colorbar": {
             "outlinewidth": 0,
             "ticks": ""
            },
            "colorscale": [
             [
              0,
              "#0d0887"
             ],
             [
              0.1111111111111111,
              "#46039f"
             ],
             [
              0.2222222222222222,
              "#7201a8"
             ],
             [
              0.3333333333333333,
              "#9c179e"
             ],
             [
              0.4444444444444444,
              "#bd3786"
             ],
             [
              0.5555555555555556,
              "#d8576b"
             ],
             [
              0.6666666666666666,
              "#ed7953"
             ],
             [
              0.7777777777777778,
              "#fb9f3a"
             ],
             [
              0.8888888888888888,
              "#fdca26"
             ],
             [
              1,
              "#f0f921"
             ]
            ],
            "type": "histogram2dcontour"
           }
          ],
          "mesh3d": [
           {
            "colorbar": {
             "outlinewidth": 0,
             "ticks": ""
            },
            "type": "mesh3d"
           }
          ],
          "parcoords": [
           {
            "line": {
             "colorbar": {
              "outlinewidth": 0,
              "ticks": ""
             }
            },
            "type": "parcoords"
           }
          ],
          "pie": [
           {
            "automargin": true,
            "type": "pie"
           }
          ],
          "scatter": [
           {
            "fillpattern": {
             "fillmode": "overlay",
             "size": 10,
             "solidity": 0.2
            },
            "type": "scatter"
           }
          ],
          "scatter3d": [
           {
            "line": {
             "colorbar": {
              "outlinewidth": 0,
              "ticks": ""
             }
            },
            "marker": {
             "colorbar": {
              "outlinewidth": 0,
              "ticks": ""
             }
            },
            "type": "scatter3d"
           }
          ],
          "scattercarpet": [
           {
            "marker": {
             "colorbar": {
              "outlinewidth": 0,
              "ticks": ""
             }
            },
            "type": "scattercarpet"
           }
          ],
          "scattergeo": [
           {
            "marker": {
             "colorbar": {
              "outlinewidth": 0,
              "ticks": ""
             }
            },
            "type": "scattergeo"
           }
          ],
          "scattergl": [
           {
            "marker": {
             "colorbar": {
              "outlinewidth": 0,
              "ticks": ""
             }
            },
            "type": "scattergl"
           }
          ],
          "scattermapbox": [
           {
            "marker": {
             "colorbar": {
              "outlinewidth": 0,
              "ticks": ""
             }
            },
            "type": "scattermapbox"
           }
          ],
          "scatterpolar": [
           {
            "marker": {
             "colorbar": {
              "outlinewidth": 0,
              "ticks": ""
             }
            },
            "type": "scatterpolar"
           }
          ],
          "scatterpolargl": [
           {
            "marker": {
             "colorbar": {
              "outlinewidth": 0,
              "ticks": ""
             }
            },
            "type": "scatterpolargl"
           }
          ],
          "scatterternary": [
           {
            "marker": {
             "colorbar": {
              "outlinewidth": 0,
              "ticks": ""
             }
            },
            "type": "scatterternary"
           }
          ],
          "surface": [
           {
            "colorbar": {
             "outlinewidth": 0,
             "ticks": ""
            },
            "colorscale": [
             [
              0,
              "#0d0887"
             ],
             [
              0.1111111111111111,
              "#46039f"
             ],
             [
              0.2222222222222222,
              "#7201a8"
             ],
             [
              0.3333333333333333,
              "#9c179e"
             ],
             [
              0.4444444444444444,
              "#bd3786"
             ],
             [
              0.5555555555555556,
              "#d8576b"
             ],
             [
              0.6666666666666666,
              "#ed7953"
             ],
             [
              0.7777777777777778,
              "#fb9f3a"
             ],
             [
              0.8888888888888888,
              "#fdca26"
             ],
             [
              1,
              "#f0f921"
             ]
            ],
            "type": "surface"
           }
          ],
          "table": [
           {
            "cells": {
             "fill": {
              "color": "#EBF0F8"
             },
             "line": {
              "color": "white"
             }
            },
            "header": {
             "fill": {
              "color": "#C8D4E3"
             },
             "line": {
              "color": "white"
             }
            },
            "type": "table"
           }
          ]
         },
         "layout": {
          "annotationdefaults": {
           "arrowcolor": "#2a3f5f",
           "arrowhead": 0,
           "arrowwidth": 1
          },
          "autotypenumbers": "strict",
          "coloraxis": {
           "colorbar": {
            "outlinewidth": 0,
            "ticks": ""
           }
          },
          "colorscale": {
           "diverging": [
            [
             0,
             "#8e0152"
            ],
            [
             0.1,
             "#c51b7d"
            ],
            [
             0.2,
             "#de77ae"
            ],
            [
             0.3,
             "#f1b6da"
            ],
            [
             0.4,
             "#fde0ef"
            ],
            [
             0.5,
             "#f7f7f7"
            ],
            [
             0.6,
             "#e6f5d0"
            ],
            [
             0.7,
             "#b8e186"
            ],
            [
             0.8,
             "#7fbc41"
            ],
            [
             0.9,
             "#4d9221"
            ],
            [
             1,
             "#276419"
            ]
           ],
           "sequential": [
            [
             0,
             "#0d0887"
            ],
            [
             0.1111111111111111,
             "#46039f"
            ],
            [
             0.2222222222222222,
             "#7201a8"
            ],
            [
             0.3333333333333333,
             "#9c179e"
            ],
            [
             0.4444444444444444,
             "#bd3786"
            ],
            [
             0.5555555555555556,
             "#d8576b"
            ],
            [
             0.6666666666666666,
             "#ed7953"
            ],
            [
             0.7777777777777778,
             "#fb9f3a"
            ],
            [
             0.8888888888888888,
             "#fdca26"
            ],
            [
             1,
             "#f0f921"
            ]
           ],
           "sequentialminus": [
            [
             0,
             "#0d0887"
            ],
            [
             0.1111111111111111,
             "#46039f"
            ],
            [
             0.2222222222222222,
             "#7201a8"
            ],
            [
             0.3333333333333333,
             "#9c179e"
            ],
            [
             0.4444444444444444,
             "#bd3786"
            ],
            [
             0.5555555555555556,
             "#d8576b"
            ],
            [
             0.6666666666666666,
             "#ed7953"
            ],
            [
             0.7777777777777778,
             "#fb9f3a"
            ],
            [
             0.8888888888888888,
             "#fdca26"
            ],
            [
             1,
             "#f0f921"
            ]
           ]
          },
          "colorway": [
           "#636efa",
           "#EF553B",
           "#00cc96",
           "#ab63fa",
           "#FFA15A",
           "#19d3f3",
           "#FF6692",
           "#B6E880",
           "#FF97FF",
           "#FECB52"
          ],
          "font": {
           "color": "#2a3f5f"
          },
          "geo": {
           "bgcolor": "white",
           "lakecolor": "white",
           "landcolor": "#E5ECF6",
           "showlakes": true,
           "showland": true,
           "subunitcolor": "white"
          },
          "hoverlabel": {
           "align": "left"
          },
          "hovermode": "closest",
          "mapbox": {
           "style": "light"
          },
          "paper_bgcolor": "white",
          "plot_bgcolor": "#E5ECF6",
          "polar": {
           "angularaxis": {
            "gridcolor": "white",
            "linecolor": "white",
            "ticks": ""
           },
           "bgcolor": "#E5ECF6",
           "radialaxis": {
            "gridcolor": "white",
            "linecolor": "white",
            "ticks": ""
           }
          },
          "scene": {
           "xaxis": {
            "backgroundcolor": "#E5ECF6",
            "gridcolor": "white",
            "gridwidth": 2,
            "linecolor": "white",
            "showbackground": true,
            "ticks": "",
            "zerolinecolor": "white"
           },
           "yaxis": {
            "backgroundcolor": "#E5ECF6",
            "gridcolor": "white",
            "gridwidth": 2,
            "linecolor": "white",
            "showbackground": true,
            "ticks": "",
            "zerolinecolor": "white"
           },
           "zaxis": {
            "backgroundcolor": "#E5ECF6",
            "gridcolor": "white",
            "gridwidth": 2,
            "linecolor": "white",
            "showbackground": true,
            "ticks": "",
            "zerolinecolor": "white"
           }
          },
          "shapedefaults": {
           "line": {
            "color": "#2a3f5f"
           }
          },
          "ternary": {
           "aaxis": {
            "gridcolor": "white",
            "linecolor": "white",
            "ticks": ""
           },
           "baxis": {
            "gridcolor": "white",
            "linecolor": "white",
            "ticks": ""
           },
           "bgcolor": "#E5ECF6",
           "caxis": {
            "gridcolor": "white",
            "linecolor": "white",
            "ticks": ""
           }
          },
          "title": {
           "x": 0.05
          },
          "xaxis": {
           "automargin": true,
           "gridcolor": "white",
           "linecolor": "white",
           "ticks": "",
           "title": {
            "standoff": 15
           },
           "zerolinecolor": "white",
           "zerolinewidth": 2
          },
          "yaxis": {
           "automargin": true,
           "gridcolor": "white",
           "linecolor": "white",
           "ticks": "",
           "title": {
            "standoff": 15
           },
           "zerolinecolor": "white",
           "zerolinewidth": 2
          }
         }
        },
        "xaxis": {
         "anchor": "y",
         "domain": [
          0,
          1
         ],
         "title": {
          "text": "x"
         },
         "type": "log"
        },
        "yaxis": {
         "anchor": "x",
         "domain": [
          0,
          1
         ],
         "title": {
          "text": "y"
         }
        }
       }
      }
     },
     "metadata": {},
     "output_type": "display_data"
    }
   ],
   "source": [
    "import plotly.express as px\n",
    "\n",
    "fig = px.scatter(df, x=xs, y=ys,\n",
    "                 error_y=stds, error_y_minus=stds, log_x=True)\n",
    "fig.show()"
   ]
  },
  {
   "cell_type": "code",
   "execution_count": null,
   "metadata": {},
   "outputs": [],
   "source": []
  },
  {
   "cell_type": "code",
   "execution_count": null,
   "metadata": {},
   "outputs": [],
   "source": []
  },
  {
   "cell_type": "code",
   "execution_count": null,
   "metadata": {},
   "outputs": [],
   "source": []
  },
  {
   "cell_type": "code",
   "execution_count": null,
   "metadata": {},
   "outputs": [],
   "source": []
  }
 ],
 "metadata": {
  "kernelspec": {
   "display_name": "Python 3",
   "language": "python",
   "name": "python3"
  },
  "language_info": {
   "codemirror_mode": {
    "name": "ipython",
    "version": 3
   },
   "file_extension": ".py",
   "mimetype": "text/x-python",
   "name": "python",
   "nbconvert_exporter": "python",
   "pygments_lexer": "ipython3",
   "version": "3.11.2"
  },
  "orig_nbformat": 4
 },
 "nbformat": 4,
 "nbformat_minor": 2
}
